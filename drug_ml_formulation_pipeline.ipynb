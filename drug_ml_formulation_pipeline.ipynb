{
  "nbformat": 4,
  "nbformat_minor": 0,
  "metadata": {
    "colab": {
      "provenance": []
    },
    "kernelspec": {
      "name": "python3",
      "display_name": "Python 3"
    },
    "language_info": {
      "name": "python"
    },
    "widgets": {
      "application/vnd.jupyter.widget-state+json": {
        "b91490b2dc524bb3b44bde4f26c96c9c": {
          "model_module": "@jupyter-widgets/controls",
          "model_name": "HBoxModel",
          "model_module_version": "1.5.0",
          "state": {
            "_dom_classes": [],
            "_model_module": "@jupyter-widgets/controls",
            "_model_module_version": "1.5.0",
            "_model_name": "HBoxModel",
            "_view_count": null,
            "_view_module": "@jupyter-widgets/controls",
            "_view_module_version": "1.5.0",
            "_view_name": "HBoxView",
            "box_style": "",
            "children": [
              "IPY_MODEL_edfb7cd83bb8429a93ce9e6391955cae",
              "IPY_MODEL_06968ea38d57422aa2e5f294a56e8bde",
              "IPY_MODEL_ea04eda5d0d94eafb2c172406c3428b8"
            ],
            "layout": "IPY_MODEL_59184a4f90074900a47c7f885ffc4ed3"
          }
        },
        "edfb7cd83bb8429a93ce9e6391955cae": {
          "model_module": "@jupyter-widgets/controls",
          "model_name": "HTMLModel",
          "model_module_version": "1.5.0",
          "state": {
            "_dom_classes": [],
            "_model_module": "@jupyter-widgets/controls",
            "_model_module_version": "1.5.0",
            "_model_name": "HTMLModel",
            "_view_count": null,
            "_view_module": "@jupyter-widgets/controls",
            "_view_module_version": "1.5.0",
            "_view_name": "HTMLView",
            "description": "",
            "description_tooltip": null,
            "layout": "IPY_MODEL_beb156cce2be42448a14dd85502c385d",
            "placeholder": "​",
            "style": "IPY_MODEL_0be70a1e80e2466ead850a699d992bae",
            "value": "config.json: 100%"
          }
        },
        "06968ea38d57422aa2e5f294a56e8bde": {
          "model_module": "@jupyter-widgets/controls",
          "model_name": "FloatProgressModel",
          "model_module_version": "1.5.0",
          "state": {
            "_dom_classes": [],
            "_model_module": "@jupyter-widgets/controls",
            "_model_module_version": "1.5.0",
            "_model_name": "FloatProgressModel",
            "_view_count": null,
            "_view_module": "@jupyter-widgets/controls",
            "_view_module_version": "1.5.0",
            "_view_name": "ProgressView",
            "bar_style": "success",
            "description": "",
            "description_tooltip": null,
            "layout": "IPY_MODEL_e0c3db1f7fd54b2681e9e04ad5bc699b",
            "max": 473,
            "min": 0,
            "orientation": "horizontal",
            "style": "IPY_MODEL_f700cbfa9e394cc6b03192848bbd9ab9",
            "value": 473
          }
        },
        "ea04eda5d0d94eafb2c172406c3428b8": {
          "model_module": "@jupyter-widgets/controls",
          "model_name": "HTMLModel",
          "model_module_version": "1.5.0",
          "state": {
            "_dom_classes": [],
            "_model_module": "@jupyter-widgets/controls",
            "_model_module_version": "1.5.0",
            "_model_name": "HTMLModel",
            "_view_count": null,
            "_view_module": "@jupyter-widgets/controls",
            "_view_module_version": "1.5.0",
            "_view_name": "HTMLView",
            "description": "",
            "description_tooltip": null,
            "layout": "IPY_MODEL_dd773f734fd24ac8bc91a2dfe00e6923",
            "placeholder": "​",
            "style": "IPY_MODEL_fd3b9d77bb1c4775bd7b169dafad2106",
            "value": " 473/473 [00:00&lt;00:00, 37.9kB/s]"
          }
        },
        "59184a4f90074900a47c7f885ffc4ed3": {
          "model_module": "@jupyter-widgets/base",
          "model_name": "LayoutModel",
          "model_module_version": "1.2.0",
          "state": {
            "_model_module": "@jupyter-widgets/base",
            "_model_module_version": "1.2.0",
            "_model_name": "LayoutModel",
            "_view_count": null,
            "_view_module": "@jupyter-widgets/base",
            "_view_module_version": "1.2.0",
            "_view_name": "LayoutView",
            "align_content": null,
            "align_items": null,
            "align_self": null,
            "border": null,
            "bottom": null,
            "display": null,
            "flex": null,
            "flex_flow": null,
            "grid_area": null,
            "grid_auto_columns": null,
            "grid_auto_flow": null,
            "grid_auto_rows": null,
            "grid_column": null,
            "grid_gap": null,
            "grid_row": null,
            "grid_template_areas": null,
            "grid_template_columns": null,
            "grid_template_rows": null,
            "height": null,
            "justify_content": null,
            "justify_items": null,
            "left": null,
            "margin": null,
            "max_height": null,
            "max_width": null,
            "min_height": null,
            "min_width": null,
            "object_fit": null,
            "object_position": null,
            "order": null,
            "overflow": null,
            "overflow_x": null,
            "overflow_y": null,
            "padding": null,
            "right": null,
            "top": null,
            "visibility": null,
            "width": null
          }
        },
        "beb156cce2be42448a14dd85502c385d": {
          "model_module": "@jupyter-widgets/base",
          "model_name": "LayoutModel",
          "model_module_version": "1.2.0",
          "state": {
            "_model_module": "@jupyter-widgets/base",
            "_model_module_version": "1.2.0",
            "_model_name": "LayoutModel",
            "_view_count": null,
            "_view_module": "@jupyter-widgets/base",
            "_view_module_version": "1.2.0",
            "_view_name": "LayoutView",
            "align_content": null,
            "align_items": null,
            "align_self": null,
            "border": null,
            "bottom": null,
            "display": null,
            "flex": null,
            "flex_flow": null,
            "grid_area": null,
            "grid_auto_columns": null,
            "grid_auto_flow": null,
            "grid_auto_rows": null,
            "grid_column": null,
            "grid_gap": null,
            "grid_row": null,
            "grid_template_areas": null,
            "grid_template_columns": null,
            "grid_template_rows": null,
            "height": null,
            "justify_content": null,
            "justify_items": null,
            "left": null,
            "margin": null,
            "max_height": null,
            "max_width": null,
            "min_height": null,
            "min_width": null,
            "object_fit": null,
            "object_position": null,
            "order": null,
            "overflow": null,
            "overflow_x": null,
            "overflow_y": null,
            "padding": null,
            "right": null,
            "top": null,
            "visibility": null,
            "width": null
          }
        },
        "0be70a1e80e2466ead850a699d992bae": {
          "model_module": "@jupyter-widgets/controls",
          "model_name": "DescriptionStyleModel",
          "model_module_version": "1.5.0",
          "state": {
            "_model_module": "@jupyter-widgets/controls",
            "_model_module_version": "1.5.0",
            "_model_name": "DescriptionStyleModel",
            "_view_count": null,
            "_view_module": "@jupyter-widgets/base",
            "_view_module_version": "1.2.0",
            "_view_name": "StyleView",
            "description_width": ""
          }
        },
        "e0c3db1f7fd54b2681e9e04ad5bc699b": {
          "model_module": "@jupyter-widgets/base",
          "model_name": "LayoutModel",
          "model_module_version": "1.2.0",
          "state": {
            "_model_module": "@jupyter-widgets/base",
            "_model_module_version": "1.2.0",
            "_model_name": "LayoutModel",
            "_view_count": null,
            "_view_module": "@jupyter-widgets/base",
            "_view_module_version": "1.2.0",
            "_view_name": "LayoutView",
            "align_content": null,
            "align_items": null,
            "align_self": null,
            "border": null,
            "bottom": null,
            "display": null,
            "flex": null,
            "flex_flow": null,
            "grid_area": null,
            "grid_auto_columns": null,
            "grid_auto_flow": null,
            "grid_auto_rows": null,
            "grid_column": null,
            "grid_gap": null,
            "grid_row": null,
            "grid_template_areas": null,
            "grid_template_columns": null,
            "grid_template_rows": null,
            "height": null,
            "justify_content": null,
            "justify_items": null,
            "left": null,
            "margin": null,
            "max_height": null,
            "max_width": null,
            "min_height": null,
            "min_width": null,
            "object_fit": null,
            "object_position": null,
            "order": null,
            "overflow": null,
            "overflow_x": null,
            "overflow_y": null,
            "padding": null,
            "right": null,
            "top": null,
            "visibility": null,
            "width": null
          }
        },
        "f700cbfa9e394cc6b03192848bbd9ab9": {
          "model_module": "@jupyter-widgets/controls",
          "model_name": "ProgressStyleModel",
          "model_module_version": "1.5.0",
          "state": {
            "_model_module": "@jupyter-widgets/controls",
            "_model_module_version": "1.5.0",
            "_model_name": "ProgressStyleModel",
            "_view_count": null,
            "_view_module": "@jupyter-widgets/base",
            "_view_module_version": "1.2.0",
            "_view_name": "StyleView",
            "bar_color": null,
            "description_width": ""
          }
        },
        "dd773f734fd24ac8bc91a2dfe00e6923": {
          "model_module": "@jupyter-widgets/base",
          "model_name": "LayoutModel",
          "model_module_version": "1.2.0",
          "state": {
            "_model_module": "@jupyter-widgets/base",
            "_model_module_version": "1.2.0",
            "_model_name": "LayoutModel",
            "_view_count": null,
            "_view_module": "@jupyter-widgets/base",
            "_view_module_version": "1.2.0",
            "_view_name": "LayoutView",
            "align_content": null,
            "align_items": null,
            "align_self": null,
            "border": null,
            "bottom": null,
            "display": null,
            "flex": null,
            "flex_flow": null,
            "grid_area": null,
            "grid_auto_columns": null,
            "grid_auto_flow": null,
            "grid_auto_rows": null,
            "grid_column": null,
            "grid_gap": null,
            "grid_row": null,
            "grid_template_areas": null,
            "grid_template_columns": null,
            "grid_template_rows": null,
            "height": null,
            "justify_content": null,
            "justify_items": null,
            "left": null,
            "margin": null,
            "max_height": null,
            "max_width": null,
            "min_height": null,
            "min_width": null,
            "object_fit": null,
            "object_position": null,
            "order": null,
            "overflow": null,
            "overflow_x": null,
            "overflow_y": null,
            "padding": null,
            "right": null,
            "top": null,
            "visibility": null,
            "width": null
          }
        },
        "fd3b9d77bb1c4775bd7b169dafad2106": {
          "model_module": "@jupyter-widgets/controls",
          "model_name": "DescriptionStyleModel",
          "model_module_version": "1.5.0",
          "state": {
            "_model_module": "@jupyter-widgets/controls",
            "_model_module_version": "1.5.0",
            "_model_name": "DescriptionStyleModel",
            "_view_count": null,
            "_view_module": "@jupyter-widgets/base",
            "_view_module_version": "1.2.0",
            "_view_name": "StyleView",
            "description_width": ""
          }
        },
        "3862ed450b484d00b761b94bf27da4a9": {
          "model_module": "@jupyter-widgets/controls",
          "model_name": "HBoxModel",
          "model_module_version": "1.5.0",
          "state": {
            "_dom_classes": [],
            "_model_module": "@jupyter-widgets/controls",
            "_model_module_version": "1.5.0",
            "_model_name": "HBoxModel",
            "_view_count": null,
            "_view_module": "@jupyter-widgets/controls",
            "_view_module_version": "1.5.0",
            "_view_name": "HBoxView",
            "box_style": "",
            "children": [
              "IPY_MODEL_d83c5f231fee4a14b0c3f552301fa8c0",
              "IPY_MODEL_0effb5a0b2614295af9bff8aea5ebae3",
              "IPY_MODEL_cc03a9038700490793b73bff8155b664"
            ],
            "layout": "IPY_MODEL_cacb973f4e25469185f8966b1c69cf27"
          }
        },
        "d83c5f231fee4a14b0c3f552301fa8c0": {
          "model_module": "@jupyter-widgets/controls",
          "model_name": "HTMLModel",
          "model_module_version": "1.5.0",
          "state": {
            "_dom_classes": [],
            "_model_module": "@jupyter-widgets/controls",
            "_model_module_version": "1.5.0",
            "_model_name": "HTMLModel",
            "_view_count": null,
            "_view_module": "@jupyter-widgets/controls",
            "_view_module_version": "1.5.0",
            "_view_name": "HTMLView",
            "description": "",
            "description_tooltip": null,
            "layout": "IPY_MODEL_bff4b213aa4c4f42a35ab0bc3e21eaa7",
            "placeholder": "​",
            "style": "IPY_MODEL_5ae154dd8e524b4dbda9c4c06eaccfc9",
            "value": "model.safetensors: 100%"
          }
        },
        "0effb5a0b2614295af9bff8aea5ebae3": {
          "model_module": "@jupyter-widgets/controls",
          "model_name": "FloatProgressModel",
          "model_module_version": "1.5.0",
          "state": {
            "_dom_classes": [],
            "_model_module": "@jupyter-widgets/controls",
            "_model_module_version": "1.5.0",
            "_model_name": "FloatProgressModel",
            "_view_count": null,
            "_view_module": "@jupyter-widgets/controls",
            "_view_module_version": "1.5.0",
            "_view_name": "ProgressView",
            "bar_style": "success",
            "description": "",
            "description_tooltip": null,
            "layout": "IPY_MODEL_fedb5da842ec48588a62b36674f42756",
            "max": 260782156,
            "min": 0,
            "orientation": "horizontal",
            "style": "IPY_MODEL_5feed65818504b588a76010c035659ba",
            "value": 260782156
          }
        },
        "cc03a9038700490793b73bff8155b664": {
          "model_module": "@jupyter-widgets/controls",
          "model_name": "HTMLModel",
          "model_module_version": "1.5.0",
          "state": {
            "_dom_classes": [],
            "_model_module": "@jupyter-widgets/controls",
            "_model_module_version": "1.5.0",
            "_model_name": "HTMLModel",
            "_view_count": null,
            "_view_module": "@jupyter-widgets/controls",
            "_view_module_version": "1.5.0",
            "_view_name": "HTMLView",
            "description": "",
            "description_tooltip": null,
            "layout": "IPY_MODEL_274923e07f3a49b4998fbd9fd412db46",
            "placeholder": "​",
            "style": "IPY_MODEL_b26ef54135594564ac02ac0b8fc07280",
            "value": " 261M/261M [00:07&lt;00:00, 45.5MB/s]"
          }
        },
        "cacb973f4e25469185f8966b1c69cf27": {
          "model_module": "@jupyter-widgets/base",
          "model_name": "LayoutModel",
          "model_module_version": "1.2.0",
          "state": {
            "_model_module": "@jupyter-widgets/base",
            "_model_module_version": "1.2.0",
            "_model_name": "LayoutModel",
            "_view_count": null,
            "_view_module": "@jupyter-widgets/base",
            "_view_module_version": "1.2.0",
            "_view_name": "LayoutView",
            "align_content": null,
            "align_items": null,
            "align_self": null,
            "border": null,
            "bottom": null,
            "display": null,
            "flex": null,
            "flex_flow": null,
            "grid_area": null,
            "grid_auto_columns": null,
            "grid_auto_flow": null,
            "grid_auto_rows": null,
            "grid_column": null,
            "grid_gap": null,
            "grid_row": null,
            "grid_template_areas": null,
            "grid_template_columns": null,
            "grid_template_rows": null,
            "height": null,
            "justify_content": null,
            "justify_items": null,
            "left": null,
            "margin": null,
            "max_height": null,
            "max_width": null,
            "min_height": null,
            "min_width": null,
            "object_fit": null,
            "object_position": null,
            "order": null,
            "overflow": null,
            "overflow_x": null,
            "overflow_y": null,
            "padding": null,
            "right": null,
            "top": null,
            "visibility": null,
            "width": null
          }
        },
        "bff4b213aa4c4f42a35ab0bc3e21eaa7": {
          "model_module": "@jupyter-widgets/base",
          "model_name": "LayoutModel",
          "model_module_version": "1.2.0",
          "state": {
            "_model_module": "@jupyter-widgets/base",
            "_model_module_version": "1.2.0",
            "_model_name": "LayoutModel",
            "_view_count": null,
            "_view_module": "@jupyter-widgets/base",
            "_view_module_version": "1.2.0",
            "_view_name": "LayoutView",
            "align_content": null,
            "align_items": null,
            "align_self": null,
            "border": null,
            "bottom": null,
            "display": null,
            "flex": null,
            "flex_flow": null,
            "grid_area": null,
            "grid_auto_columns": null,
            "grid_auto_flow": null,
            "grid_auto_rows": null,
            "grid_column": null,
            "grid_gap": null,
            "grid_row": null,
            "grid_template_areas": null,
            "grid_template_columns": null,
            "grid_template_rows": null,
            "height": null,
            "justify_content": null,
            "justify_items": null,
            "left": null,
            "margin": null,
            "max_height": null,
            "max_width": null,
            "min_height": null,
            "min_width": null,
            "object_fit": null,
            "object_position": null,
            "order": null,
            "overflow": null,
            "overflow_x": null,
            "overflow_y": null,
            "padding": null,
            "right": null,
            "top": null,
            "visibility": null,
            "width": null
          }
        },
        "5ae154dd8e524b4dbda9c4c06eaccfc9": {
          "model_module": "@jupyter-widgets/controls",
          "model_name": "DescriptionStyleModel",
          "model_module_version": "1.5.0",
          "state": {
            "_model_module": "@jupyter-widgets/controls",
            "_model_module_version": "1.5.0",
            "_model_name": "DescriptionStyleModel",
            "_view_count": null,
            "_view_module": "@jupyter-widgets/base",
            "_view_module_version": "1.2.0",
            "_view_name": "StyleView",
            "description_width": ""
          }
        },
        "fedb5da842ec48588a62b36674f42756": {
          "model_module": "@jupyter-widgets/base",
          "model_name": "LayoutModel",
          "model_module_version": "1.2.0",
          "state": {
            "_model_module": "@jupyter-widgets/base",
            "_model_module_version": "1.2.0",
            "_model_name": "LayoutModel",
            "_view_count": null,
            "_view_module": "@jupyter-widgets/base",
            "_view_module_version": "1.2.0",
            "_view_name": "LayoutView",
            "align_content": null,
            "align_items": null,
            "align_self": null,
            "border": null,
            "bottom": null,
            "display": null,
            "flex": null,
            "flex_flow": null,
            "grid_area": null,
            "grid_auto_columns": null,
            "grid_auto_flow": null,
            "grid_auto_rows": null,
            "grid_column": null,
            "grid_gap": null,
            "grid_row": null,
            "grid_template_areas": null,
            "grid_template_columns": null,
            "grid_template_rows": null,
            "height": null,
            "justify_content": null,
            "justify_items": null,
            "left": null,
            "margin": null,
            "max_height": null,
            "max_width": null,
            "min_height": null,
            "min_width": null,
            "object_fit": null,
            "object_position": null,
            "order": null,
            "overflow": null,
            "overflow_x": null,
            "overflow_y": null,
            "padding": null,
            "right": null,
            "top": null,
            "visibility": null,
            "width": null
          }
        },
        "5feed65818504b588a76010c035659ba": {
          "model_module": "@jupyter-widgets/controls",
          "model_name": "ProgressStyleModel",
          "model_module_version": "1.5.0",
          "state": {
            "_model_module": "@jupyter-widgets/controls",
            "_model_module_version": "1.5.0",
            "_model_name": "ProgressStyleModel",
            "_view_count": null,
            "_view_module": "@jupyter-widgets/base",
            "_view_module_version": "1.2.0",
            "_view_name": "StyleView",
            "bar_color": null,
            "description_width": ""
          }
        },
        "274923e07f3a49b4998fbd9fd412db46": {
          "model_module": "@jupyter-widgets/base",
          "model_name": "LayoutModel",
          "model_module_version": "1.2.0",
          "state": {
            "_model_module": "@jupyter-widgets/base",
            "_model_module_version": "1.2.0",
            "_model_name": "LayoutModel",
            "_view_count": null,
            "_view_module": "@jupyter-widgets/base",
            "_view_module_version": "1.2.0",
            "_view_name": "LayoutView",
            "align_content": null,
            "align_items": null,
            "align_self": null,
            "border": null,
            "bottom": null,
            "display": null,
            "flex": null,
            "flex_flow": null,
            "grid_area": null,
            "grid_auto_columns": null,
            "grid_auto_flow": null,
            "grid_auto_rows": null,
            "grid_column": null,
            "grid_gap": null,
            "grid_row": null,
            "grid_template_areas": null,
            "grid_template_columns": null,
            "grid_template_rows": null,
            "height": null,
            "justify_content": null,
            "justify_items": null,
            "left": null,
            "margin": null,
            "max_height": null,
            "max_width": null,
            "min_height": null,
            "min_width": null,
            "object_fit": null,
            "object_position": null,
            "order": null,
            "overflow": null,
            "overflow_x": null,
            "overflow_y": null,
            "padding": null,
            "right": null,
            "top": null,
            "visibility": null,
            "width": null
          }
        },
        "b26ef54135594564ac02ac0b8fc07280": {
          "model_module": "@jupyter-widgets/controls",
          "model_name": "DescriptionStyleModel",
          "model_module_version": "1.5.0",
          "state": {
            "_model_module": "@jupyter-widgets/controls",
            "_model_module_version": "1.5.0",
            "_model_name": "DescriptionStyleModel",
            "_view_count": null,
            "_view_module": "@jupyter-widgets/base",
            "_view_module_version": "1.2.0",
            "_view_name": "StyleView",
            "description_width": ""
          }
        },
        "757c719c1d4a43f3bd0ee96ed4621641": {
          "model_module": "@jupyter-widgets/controls",
          "model_name": "HBoxModel",
          "model_module_version": "1.5.0",
          "state": {
            "_dom_classes": [],
            "_model_module": "@jupyter-widgets/controls",
            "_model_module_version": "1.5.0",
            "_model_name": "HBoxModel",
            "_view_count": null,
            "_view_module": "@jupyter-widgets/controls",
            "_view_module_version": "1.5.0",
            "_view_name": "HBoxView",
            "box_style": "",
            "children": [
              "IPY_MODEL_608f4cea98574dd6ab9c237304ddadec",
              "IPY_MODEL_19302425584f40a486ae282624c2bba3",
              "IPY_MODEL_151c796f951d44df974ba50eb75020f5"
            ],
            "layout": "IPY_MODEL_8405d3ee8b9442a7a8c2b51c30e17a65"
          }
        },
        "608f4cea98574dd6ab9c237304ddadec": {
          "model_module": "@jupyter-widgets/controls",
          "model_name": "HTMLModel",
          "model_module_version": "1.5.0",
          "state": {
            "_dom_classes": [],
            "_model_module": "@jupyter-widgets/controls",
            "_model_module_version": "1.5.0",
            "_model_name": "HTMLModel",
            "_view_count": null,
            "_view_module": "@jupyter-widgets/controls",
            "_view_module_version": "1.5.0",
            "_view_name": "HTMLView",
            "description": "",
            "description_tooltip": null,
            "layout": "IPY_MODEL_a900bcb39ec34dfb87fc4b5efb686a5c",
            "placeholder": "​",
            "style": "IPY_MODEL_f4214ffdcf6149c4aac82695a6918017",
            "value": "tokenizer_config.json: 100%"
          }
        },
        "19302425584f40a486ae282624c2bba3": {
          "model_module": "@jupyter-widgets/controls",
          "model_name": "FloatProgressModel",
          "model_module_version": "1.5.0",
          "state": {
            "_dom_classes": [],
            "_model_module": "@jupyter-widgets/controls",
            "_model_module_version": "1.5.0",
            "_model_name": "FloatProgressModel",
            "_view_count": null,
            "_view_module": "@jupyter-widgets/controls",
            "_view_module_version": "1.5.0",
            "_view_name": "ProgressView",
            "bar_style": "success",
            "description": "",
            "description_tooltip": null,
            "layout": "IPY_MODEL_4f8e9faf28dd49b2a7671efe64fd7841",
            "max": 49,
            "min": 0,
            "orientation": "horizontal",
            "style": "IPY_MODEL_cce7ee7d0f54453983ac56e995945943",
            "value": 49
          }
        },
        "151c796f951d44df974ba50eb75020f5": {
          "model_module": "@jupyter-widgets/controls",
          "model_name": "HTMLModel",
          "model_module_version": "1.5.0",
          "state": {
            "_dom_classes": [],
            "_model_module": "@jupyter-widgets/controls",
            "_model_module_version": "1.5.0",
            "_model_name": "HTMLModel",
            "_view_count": null,
            "_view_module": "@jupyter-widgets/controls",
            "_view_module_version": "1.5.0",
            "_view_name": "HTMLView",
            "description": "",
            "description_tooltip": null,
            "layout": "IPY_MODEL_5e5cc9737af0457d994e3625915cd881",
            "placeholder": "​",
            "style": "IPY_MODEL_0ff65a3428594937b4705a67982a2547",
            "value": " 49.0/49.0 [00:00&lt;00:00, 2.86kB/s]"
          }
        },
        "8405d3ee8b9442a7a8c2b51c30e17a65": {
          "model_module": "@jupyter-widgets/base",
          "model_name": "LayoutModel",
          "model_module_version": "1.2.0",
          "state": {
            "_model_module": "@jupyter-widgets/base",
            "_model_module_version": "1.2.0",
            "_model_name": "LayoutModel",
            "_view_count": null,
            "_view_module": "@jupyter-widgets/base",
            "_view_module_version": "1.2.0",
            "_view_name": "LayoutView",
            "align_content": null,
            "align_items": null,
            "align_self": null,
            "border": null,
            "bottom": null,
            "display": null,
            "flex": null,
            "flex_flow": null,
            "grid_area": null,
            "grid_auto_columns": null,
            "grid_auto_flow": null,
            "grid_auto_rows": null,
            "grid_column": null,
            "grid_gap": null,
            "grid_row": null,
            "grid_template_areas": null,
            "grid_template_columns": null,
            "grid_template_rows": null,
            "height": null,
            "justify_content": null,
            "justify_items": null,
            "left": null,
            "margin": null,
            "max_height": null,
            "max_width": null,
            "min_height": null,
            "min_width": null,
            "object_fit": null,
            "object_position": null,
            "order": null,
            "overflow": null,
            "overflow_x": null,
            "overflow_y": null,
            "padding": null,
            "right": null,
            "top": null,
            "visibility": null,
            "width": null
          }
        },
        "a900bcb39ec34dfb87fc4b5efb686a5c": {
          "model_module": "@jupyter-widgets/base",
          "model_name": "LayoutModel",
          "model_module_version": "1.2.0",
          "state": {
            "_model_module": "@jupyter-widgets/base",
            "_model_module_version": "1.2.0",
            "_model_name": "LayoutModel",
            "_view_count": null,
            "_view_module": "@jupyter-widgets/base",
            "_view_module_version": "1.2.0",
            "_view_name": "LayoutView",
            "align_content": null,
            "align_items": null,
            "align_self": null,
            "border": null,
            "bottom": null,
            "display": null,
            "flex": null,
            "flex_flow": null,
            "grid_area": null,
            "grid_auto_columns": null,
            "grid_auto_flow": null,
            "grid_auto_rows": null,
            "grid_column": null,
            "grid_gap": null,
            "grid_row": null,
            "grid_template_areas": null,
            "grid_template_columns": null,
            "grid_template_rows": null,
            "height": null,
            "justify_content": null,
            "justify_items": null,
            "left": null,
            "margin": null,
            "max_height": null,
            "max_width": null,
            "min_height": null,
            "min_width": null,
            "object_fit": null,
            "object_position": null,
            "order": null,
            "overflow": null,
            "overflow_x": null,
            "overflow_y": null,
            "padding": null,
            "right": null,
            "top": null,
            "visibility": null,
            "width": null
          }
        },
        "f4214ffdcf6149c4aac82695a6918017": {
          "model_module": "@jupyter-widgets/controls",
          "model_name": "DescriptionStyleModel",
          "model_module_version": "1.5.0",
          "state": {
            "_model_module": "@jupyter-widgets/controls",
            "_model_module_version": "1.5.0",
            "_model_name": "DescriptionStyleModel",
            "_view_count": null,
            "_view_module": "@jupyter-widgets/base",
            "_view_module_version": "1.2.0",
            "_view_name": "StyleView",
            "description_width": ""
          }
        },
        "4f8e9faf28dd49b2a7671efe64fd7841": {
          "model_module": "@jupyter-widgets/base",
          "model_name": "LayoutModel",
          "model_module_version": "1.2.0",
          "state": {
            "_model_module": "@jupyter-widgets/base",
            "_model_module_version": "1.2.0",
            "_model_name": "LayoutModel",
            "_view_count": null,
            "_view_module": "@jupyter-widgets/base",
            "_view_module_version": "1.2.0",
            "_view_name": "LayoutView",
            "align_content": null,
            "align_items": null,
            "align_self": null,
            "border": null,
            "bottom": null,
            "display": null,
            "flex": null,
            "flex_flow": null,
            "grid_area": null,
            "grid_auto_columns": null,
            "grid_auto_flow": null,
            "grid_auto_rows": null,
            "grid_column": null,
            "grid_gap": null,
            "grid_row": null,
            "grid_template_areas": null,
            "grid_template_columns": null,
            "grid_template_rows": null,
            "height": null,
            "justify_content": null,
            "justify_items": null,
            "left": null,
            "margin": null,
            "max_height": null,
            "max_width": null,
            "min_height": null,
            "min_width": null,
            "object_fit": null,
            "object_position": null,
            "order": null,
            "overflow": null,
            "overflow_x": null,
            "overflow_y": null,
            "padding": null,
            "right": null,
            "top": null,
            "visibility": null,
            "width": null
          }
        },
        "cce7ee7d0f54453983ac56e995945943": {
          "model_module": "@jupyter-widgets/controls",
          "model_name": "ProgressStyleModel",
          "model_module_version": "1.5.0",
          "state": {
            "_model_module": "@jupyter-widgets/controls",
            "_model_module_version": "1.5.0",
            "_model_name": "ProgressStyleModel",
            "_view_count": null,
            "_view_module": "@jupyter-widgets/base",
            "_view_module_version": "1.2.0",
            "_view_name": "StyleView",
            "bar_color": null,
            "description_width": ""
          }
        },
        "5e5cc9737af0457d994e3625915cd881": {
          "model_module": "@jupyter-widgets/base",
          "model_name": "LayoutModel",
          "model_module_version": "1.2.0",
          "state": {
            "_model_module": "@jupyter-widgets/base",
            "_model_module_version": "1.2.0",
            "_model_name": "LayoutModel",
            "_view_count": null,
            "_view_module": "@jupyter-widgets/base",
            "_view_module_version": "1.2.0",
            "_view_name": "LayoutView",
            "align_content": null,
            "align_items": null,
            "align_self": null,
            "border": null,
            "bottom": null,
            "display": null,
            "flex": null,
            "flex_flow": null,
            "grid_area": null,
            "grid_auto_columns": null,
            "grid_auto_flow": null,
            "grid_auto_rows": null,
            "grid_column": null,
            "grid_gap": null,
            "grid_row": null,
            "grid_template_areas": null,
            "grid_template_columns": null,
            "grid_template_rows": null,
            "height": null,
            "justify_content": null,
            "justify_items": null,
            "left": null,
            "margin": null,
            "max_height": null,
            "max_width": null,
            "min_height": null,
            "min_width": null,
            "object_fit": null,
            "object_position": null,
            "order": null,
            "overflow": null,
            "overflow_x": null,
            "overflow_y": null,
            "padding": null,
            "right": null,
            "top": null,
            "visibility": null,
            "width": null
          }
        },
        "0ff65a3428594937b4705a67982a2547": {
          "model_module": "@jupyter-widgets/controls",
          "model_name": "DescriptionStyleModel",
          "model_module_version": "1.5.0",
          "state": {
            "_model_module": "@jupyter-widgets/controls",
            "_model_module_version": "1.5.0",
            "_model_name": "DescriptionStyleModel",
            "_view_count": null,
            "_view_module": "@jupyter-widgets/base",
            "_view_module_version": "1.2.0",
            "_view_name": "StyleView",
            "description_width": ""
          }
        },
        "00451c69c0d745bf98376982d913e770": {
          "model_module": "@jupyter-widgets/controls",
          "model_name": "HBoxModel",
          "model_module_version": "1.5.0",
          "state": {
            "_dom_classes": [],
            "_model_module": "@jupyter-widgets/controls",
            "_model_module_version": "1.5.0",
            "_model_name": "HBoxModel",
            "_view_count": null,
            "_view_module": "@jupyter-widgets/controls",
            "_view_module_version": "1.5.0",
            "_view_name": "HBoxView",
            "box_style": "",
            "children": [
              "IPY_MODEL_45308e312f51437e8f26edbd8eca745f",
              "IPY_MODEL_d789f71d37b9453ab5eab0ec679b5a87",
              "IPY_MODEL_7b58358135234e818871769457dee4c3"
            ],
            "layout": "IPY_MODEL_1d523ca2bdb14838a6c46f7455714116"
          }
        },
        "45308e312f51437e8f26edbd8eca745f": {
          "model_module": "@jupyter-widgets/controls",
          "model_name": "HTMLModel",
          "model_module_version": "1.5.0",
          "state": {
            "_dom_classes": [],
            "_model_module": "@jupyter-widgets/controls",
            "_model_module_version": "1.5.0",
            "_model_name": "HTMLModel",
            "_view_count": null,
            "_view_module": "@jupyter-widgets/controls",
            "_view_module_version": "1.5.0",
            "_view_name": "HTMLView",
            "description": "",
            "description_tooltip": null,
            "layout": "IPY_MODEL_318d9a49012c489cbc93904cb055688e",
            "placeholder": "​",
            "style": "IPY_MODEL_1621a781662f4598a1786d5622d71c55",
            "value": "vocab.txt: 100%"
          }
        },
        "d789f71d37b9453ab5eab0ec679b5a87": {
          "model_module": "@jupyter-widgets/controls",
          "model_name": "FloatProgressModel",
          "model_module_version": "1.5.0",
          "state": {
            "_dom_classes": [],
            "_model_module": "@jupyter-widgets/controls",
            "_model_module_version": "1.5.0",
            "_model_name": "FloatProgressModel",
            "_view_count": null,
            "_view_module": "@jupyter-widgets/controls",
            "_view_module_version": "1.5.0",
            "_view_name": "ProgressView",
            "bar_style": "success",
            "description": "",
            "description_tooltip": null,
            "layout": "IPY_MODEL_126beb2217d5482eb54eac941425bd92",
            "max": 213450,
            "min": 0,
            "orientation": "horizontal",
            "style": "IPY_MODEL_637454ac21284b63aca4f764ee51ee1a",
            "value": 213450
          }
        },
        "7b58358135234e818871769457dee4c3": {
          "model_module": "@jupyter-widgets/controls",
          "model_name": "HTMLModel",
          "model_module_version": "1.5.0",
          "state": {
            "_dom_classes": [],
            "_model_module": "@jupyter-widgets/controls",
            "_model_module_version": "1.5.0",
            "_model_name": "HTMLModel",
            "_view_count": null,
            "_view_module": "@jupyter-widgets/controls",
            "_view_module_version": "1.5.0",
            "_view_name": "HTMLView",
            "description": "",
            "description_tooltip": null,
            "layout": "IPY_MODEL_128a3b49341d49fb82beea988d1b149c",
            "placeholder": "​",
            "style": "IPY_MODEL_231134296ea8450984c69047d478bba8",
            "value": " 213k/213k [00:00&lt;00:00, 2.56MB/s]"
          }
        },
        "1d523ca2bdb14838a6c46f7455714116": {
          "model_module": "@jupyter-widgets/base",
          "model_name": "LayoutModel",
          "model_module_version": "1.2.0",
          "state": {
            "_model_module": "@jupyter-widgets/base",
            "_model_module_version": "1.2.0",
            "_model_name": "LayoutModel",
            "_view_count": null,
            "_view_module": "@jupyter-widgets/base",
            "_view_module_version": "1.2.0",
            "_view_name": "LayoutView",
            "align_content": null,
            "align_items": null,
            "align_self": null,
            "border": null,
            "bottom": null,
            "display": null,
            "flex": null,
            "flex_flow": null,
            "grid_area": null,
            "grid_auto_columns": null,
            "grid_auto_flow": null,
            "grid_auto_rows": null,
            "grid_column": null,
            "grid_gap": null,
            "grid_row": null,
            "grid_template_areas": null,
            "grid_template_columns": null,
            "grid_template_rows": null,
            "height": null,
            "justify_content": null,
            "justify_items": null,
            "left": null,
            "margin": null,
            "max_height": null,
            "max_width": null,
            "min_height": null,
            "min_width": null,
            "object_fit": null,
            "object_position": null,
            "order": null,
            "overflow": null,
            "overflow_x": null,
            "overflow_y": null,
            "padding": null,
            "right": null,
            "top": null,
            "visibility": null,
            "width": null
          }
        },
        "318d9a49012c489cbc93904cb055688e": {
          "model_module": "@jupyter-widgets/base",
          "model_name": "LayoutModel",
          "model_module_version": "1.2.0",
          "state": {
            "_model_module": "@jupyter-widgets/base",
            "_model_module_version": "1.2.0",
            "_model_name": "LayoutModel",
            "_view_count": null,
            "_view_module": "@jupyter-widgets/base",
            "_view_module_version": "1.2.0",
            "_view_name": "LayoutView",
            "align_content": null,
            "align_items": null,
            "align_self": null,
            "border": null,
            "bottom": null,
            "display": null,
            "flex": null,
            "flex_flow": null,
            "grid_area": null,
            "grid_auto_columns": null,
            "grid_auto_flow": null,
            "grid_auto_rows": null,
            "grid_column": null,
            "grid_gap": null,
            "grid_row": null,
            "grid_template_areas": null,
            "grid_template_columns": null,
            "grid_template_rows": null,
            "height": null,
            "justify_content": null,
            "justify_items": null,
            "left": null,
            "margin": null,
            "max_height": null,
            "max_width": null,
            "min_height": null,
            "min_width": null,
            "object_fit": null,
            "object_position": null,
            "order": null,
            "overflow": null,
            "overflow_x": null,
            "overflow_y": null,
            "padding": null,
            "right": null,
            "top": null,
            "visibility": null,
            "width": null
          }
        },
        "1621a781662f4598a1786d5622d71c55": {
          "model_module": "@jupyter-widgets/controls",
          "model_name": "DescriptionStyleModel",
          "model_module_version": "1.5.0",
          "state": {
            "_model_module": "@jupyter-widgets/controls",
            "_model_module_version": "1.5.0",
            "_model_name": "DescriptionStyleModel",
            "_view_count": null,
            "_view_module": "@jupyter-widgets/base",
            "_view_module_version": "1.2.0",
            "_view_name": "StyleView",
            "description_width": ""
          }
        },
        "126beb2217d5482eb54eac941425bd92": {
          "model_module": "@jupyter-widgets/base",
          "model_name": "LayoutModel",
          "model_module_version": "1.2.0",
          "state": {
            "_model_module": "@jupyter-widgets/base",
            "_model_module_version": "1.2.0",
            "_model_name": "LayoutModel",
            "_view_count": null,
            "_view_module": "@jupyter-widgets/base",
            "_view_module_version": "1.2.0",
            "_view_name": "LayoutView",
            "align_content": null,
            "align_items": null,
            "align_self": null,
            "border": null,
            "bottom": null,
            "display": null,
            "flex": null,
            "flex_flow": null,
            "grid_area": null,
            "grid_auto_columns": null,
            "grid_auto_flow": null,
            "grid_auto_rows": null,
            "grid_column": null,
            "grid_gap": null,
            "grid_row": null,
            "grid_template_areas": null,
            "grid_template_columns": null,
            "grid_template_rows": null,
            "height": null,
            "justify_content": null,
            "justify_items": null,
            "left": null,
            "margin": null,
            "max_height": null,
            "max_width": null,
            "min_height": null,
            "min_width": null,
            "object_fit": null,
            "object_position": null,
            "order": null,
            "overflow": null,
            "overflow_x": null,
            "overflow_y": null,
            "padding": null,
            "right": null,
            "top": null,
            "visibility": null,
            "width": null
          }
        },
        "637454ac21284b63aca4f764ee51ee1a": {
          "model_module": "@jupyter-widgets/controls",
          "model_name": "ProgressStyleModel",
          "model_module_version": "1.5.0",
          "state": {
            "_model_module": "@jupyter-widgets/controls",
            "_model_module_version": "1.5.0",
            "_model_name": "ProgressStyleModel",
            "_view_count": null,
            "_view_module": "@jupyter-widgets/base",
            "_view_module_version": "1.2.0",
            "_view_name": "StyleView",
            "bar_color": null,
            "description_width": ""
          }
        },
        "128a3b49341d49fb82beea988d1b149c": {
          "model_module": "@jupyter-widgets/base",
          "model_name": "LayoutModel",
          "model_module_version": "1.2.0",
          "state": {
            "_model_module": "@jupyter-widgets/base",
            "_model_module_version": "1.2.0",
            "_model_name": "LayoutModel",
            "_view_count": null,
            "_view_module": "@jupyter-widgets/base",
            "_view_module_version": "1.2.0",
            "_view_name": "LayoutView",
            "align_content": null,
            "align_items": null,
            "align_self": null,
            "border": null,
            "bottom": null,
            "display": null,
            "flex": null,
            "flex_flow": null,
            "grid_area": null,
            "grid_auto_columns": null,
            "grid_auto_flow": null,
            "grid_auto_rows": null,
            "grid_column": null,
            "grid_gap": null,
            "grid_row": null,
            "grid_template_areas": null,
            "grid_template_columns": null,
            "grid_template_rows": null,
            "height": null,
            "justify_content": null,
            "justify_items": null,
            "left": null,
            "margin": null,
            "max_height": null,
            "max_width": null,
            "min_height": null,
            "min_width": null,
            "object_fit": null,
            "object_position": null,
            "order": null,
            "overflow": null,
            "overflow_x": null,
            "overflow_y": null,
            "padding": null,
            "right": null,
            "top": null,
            "visibility": null,
            "width": null
          }
        },
        "231134296ea8450984c69047d478bba8": {
          "model_module": "@jupyter-widgets/controls",
          "model_name": "DescriptionStyleModel",
          "model_module_version": "1.5.0",
          "state": {
            "_model_module": "@jupyter-widgets/controls",
            "_model_module_version": "1.5.0",
            "_model_name": "DescriptionStyleModel",
            "_view_count": null,
            "_view_module": "@jupyter-widgets/base",
            "_view_module_version": "1.2.0",
            "_view_name": "StyleView",
            "description_width": ""
          }
        },
        "280e1b964f5c460287a911e44988545d": {
          "model_module": "@jupyter-widgets/controls",
          "model_name": "HBoxModel",
          "model_module_version": "1.5.0",
          "state": {
            "_dom_classes": [],
            "_model_module": "@jupyter-widgets/controls",
            "_model_module_version": "1.5.0",
            "_model_name": "HBoxModel",
            "_view_count": null,
            "_view_module": "@jupyter-widgets/controls",
            "_view_module_version": "1.5.0",
            "_view_name": "HBoxView",
            "box_style": "",
            "children": [
              "IPY_MODEL_d472f32161e6409080c9a2a1635687da",
              "IPY_MODEL_4c13aa215aa64220afdc996321e079c3",
              "IPY_MODEL_dcd4da91deca4896978fb66da15c6a53"
            ],
            "layout": "IPY_MODEL_30790690c11f4f92b30f2e476caceec1"
          }
        },
        "d472f32161e6409080c9a2a1635687da": {
          "model_module": "@jupyter-widgets/controls",
          "model_name": "HTMLModel",
          "model_module_version": "1.5.0",
          "state": {
            "_dom_classes": [],
            "_model_module": "@jupyter-widgets/controls",
            "_model_module_version": "1.5.0",
            "_model_name": "HTMLModel",
            "_view_count": null,
            "_view_module": "@jupyter-widgets/controls",
            "_view_module_version": "1.5.0",
            "_view_name": "HTMLView",
            "description": "",
            "description_tooltip": null,
            "layout": "IPY_MODEL_3efa8b102e6a41429dc7e70eb3c943e5",
            "placeholder": "​",
            "style": "IPY_MODEL_79077d94e5f2453c9d85ed777b4f5b2a",
            "value": "tokenizer.json: 100%"
          }
        },
        "4c13aa215aa64220afdc996321e079c3": {
          "model_module": "@jupyter-widgets/controls",
          "model_name": "FloatProgressModel",
          "model_module_version": "1.5.0",
          "state": {
            "_dom_classes": [],
            "_model_module": "@jupyter-widgets/controls",
            "_model_module_version": "1.5.0",
            "_model_name": "FloatProgressModel",
            "_view_count": null,
            "_view_module": "@jupyter-widgets/controls",
            "_view_module_version": "1.5.0",
            "_view_name": "ProgressView",
            "bar_style": "success",
            "description": "",
            "description_tooltip": null,
            "layout": "IPY_MODEL_5057f5ccfcde4c04af9a1c28a1d57221",
            "max": 435797,
            "min": 0,
            "orientation": "horizontal",
            "style": "IPY_MODEL_8057b818a1f140e9b444cad32b92673b",
            "value": 435797
          }
        },
        "dcd4da91deca4896978fb66da15c6a53": {
          "model_module": "@jupyter-widgets/controls",
          "model_name": "HTMLModel",
          "model_module_version": "1.5.0",
          "state": {
            "_dom_classes": [],
            "_model_module": "@jupyter-widgets/controls",
            "_model_module_version": "1.5.0",
            "_model_name": "HTMLModel",
            "_view_count": null,
            "_view_module": "@jupyter-widgets/controls",
            "_view_module_version": "1.5.0",
            "_view_name": "HTMLView",
            "description": "",
            "description_tooltip": null,
            "layout": "IPY_MODEL_8949584e79394848b47ace08c28167df",
            "placeholder": "​",
            "style": "IPY_MODEL_8902452a1bc746ed8c0e14a7ab638598",
            "value": " 436k/436k [00:00&lt;00:00, 2.70MB/s]"
          }
        },
        "30790690c11f4f92b30f2e476caceec1": {
          "model_module": "@jupyter-widgets/base",
          "model_name": "LayoutModel",
          "model_module_version": "1.2.0",
          "state": {
            "_model_module": "@jupyter-widgets/base",
            "_model_module_version": "1.2.0",
            "_model_name": "LayoutModel",
            "_view_count": null,
            "_view_module": "@jupyter-widgets/base",
            "_view_module_version": "1.2.0",
            "_view_name": "LayoutView",
            "align_content": null,
            "align_items": null,
            "align_self": null,
            "border": null,
            "bottom": null,
            "display": null,
            "flex": null,
            "flex_flow": null,
            "grid_area": null,
            "grid_auto_columns": null,
            "grid_auto_flow": null,
            "grid_auto_rows": null,
            "grid_column": null,
            "grid_gap": null,
            "grid_row": null,
            "grid_template_areas": null,
            "grid_template_columns": null,
            "grid_template_rows": null,
            "height": null,
            "justify_content": null,
            "justify_items": null,
            "left": null,
            "margin": null,
            "max_height": null,
            "max_width": null,
            "min_height": null,
            "min_width": null,
            "object_fit": null,
            "object_position": null,
            "order": null,
            "overflow": null,
            "overflow_x": null,
            "overflow_y": null,
            "padding": null,
            "right": null,
            "top": null,
            "visibility": null,
            "width": null
          }
        },
        "3efa8b102e6a41429dc7e70eb3c943e5": {
          "model_module": "@jupyter-widgets/base",
          "model_name": "LayoutModel",
          "model_module_version": "1.2.0",
          "state": {
            "_model_module": "@jupyter-widgets/base",
            "_model_module_version": "1.2.0",
            "_model_name": "LayoutModel",
            "_view_count": null,
            "_view_module": "@jupyter-widgets/base",
            "_view_module_version": "1.2.0",
            "_view_name": "LayoutView",
            "align_content": null,
            "align_items": null,
            "align_self": null,
            "border": null,
            "bottom": null,
            "display": null,
            "flex": null,
            "flex_flow": null,
            "grid_area": null,
            "grid_auto_columns": null,
            "grid_auto_flow": null,
            "grid_auto_rows": null,
            "grid_column": null,
            "grid_gap": null,
            "grid_row": null,
            "grid_template_areas": null,
            "grid_template_columns": null,
            "grid_template_rows": null,
            "height": null,
            "justify_content": null,
            "justify_items": null,
            "left": null,
            "margin": null,
            "max_height": null,
            "max_width": null,
            "min_height": null,
            "min_width": null,
            "object_fit": null,
            "object_position": null,
            "order": null,
            "overflow": null,
            "overflow_x": null,
            "overflow_y": null,
            "padding": null,
            "right": null,
            "top": null,
            "visibility": null,
            "width": null
          }
        },
        "79077d94e5f2453c9d85ed777b4f5b2a": {
          "model_module": "@jupyter-widgets/controls",
          "model_name": "DescriptionStyleModel",
          "model_module_version": "1.5.0",
          "state": {
            "_model_module": "@jupyter-widgets/controls",
            "_model_module_version": "1.5.0",
            "_model_name": "DescriptionStyleModel",
            "_view_count": null,
            "_view_module": "@jupyter-widgets/base",
            "_view_module_version": "1.2.0",
            "_view_name": "StyleView",
            "description_width": ""
          }
        },
        "5057f5ccfcde4c04af9a1c28a1d57221": {
          "model_module": "@jupyter-widgets/base",
          "model_name": "LayoutModel",
          "model_module_version": "1.2.0",
          "state": {
            "_model_module": "@jupyter-widgets/base",
            "_model_module_version": "1.2.0",
            "_model_name": "LayoutModel",
            "_view_count": null,
            "_view_module": "@jupyter-widgets/base",
            "_view_module_version": "1.2.0",
            "_view_name": "LayoutView",
            "align_content": null,
            "align_items": null,
            "align_self": null,
            "border": null,
            "bottom": null,
            "display": null,
            "flex": null,
            "flex_flow": null,
            "grid_area": null,
            "grid_auto_columns": null,
            "grid_auto_flow": null,
            "grid_auto_rows": null,
            "grid_column": null,
            "grid_gap": null,
            "grid_row": null,
            "grid_template_areas": null,
            "grid_template_columns": null,
            "grid_template_rows": null,
            "height": null,
            "justify_content": null,
            "justify_items": null,
            "left": null,
            "margin": null,
            "max_height": null,
            "max_width": null,
            "min_height": null,
            "min_width": null,
            "object_fit": null,
            "object_position": null,
            "order": null,
            "overflow": null,
            "overflow_x": null,
            "overflow_y": null,
            "padding": null,
            "right": null,
            "top": null,
            "visibility": null,
            "width": null
          }
        },
        "8057b818a1f140e9b444cad32b92673b": {
          "model_module": "@jupyter-widgets/controls",
          "model_name": "ProgressStyleModel",
          "model_module_version": "1.5.0",
          "state": {
            "_model_module": "@jupyter-widgets/controls",
            "_model_module_version": "1.5.0",
            "_model_name": "ProgressStyleModel",
            "_view_count": null,
            "_view_module": "@jupyter-widgets/base",
            "_view_module_version": "1.2.0",
            "_view_name": "StyleView",
            "bar_color": null,
            "description_width": ""
          }
        },
        "8949584e79394848b47ace08c28167df": {
          "model_module": "@jupyter-widgets/base",
          "model_name": "LayoutModel",
          "model_module_version": "1.2.0",
          "state": {
            "_model_module": "@jupyter-widgets/base",
            "_model_module_version": "1.2.0",
            "_model_name": "LayoutModel",
            "_view_count": null,
            "_view_module": "@jupyter-widgets/base",
            "_view_module_version": "1.2.0",
            "_view_name": "LayoutView",
            "align_content": null,
            "align_items": null,
            "align_self": null,
            "border": null,
            "bottom": null,
            "display": null,
            "flex": null,
            "flex_flow": null,
            "grid_area": null,
            "grid_auto_columns": null,
            "grid_auto_flow": null,
            "grid_auto_rows": null,
            "grid_column": null,
            "grid_gap": null,
            "grid_row": null,
            "grid_template_areas": null,
            "grid_template_columns": null,
            "grid_template_rows": null,
            "height": null,
            "justify_content": null,
            "justify_items": null,
            "left": null,
            "margin": null,
            "max_height": null,
            "max_width": null,
            "min_height": null,
            "min_width": null,
            "object_fit": null,
            "object_position": null,
            "order": null,
            "overflow": null,
            "overflow_x": null,
            "overflow_y": null,
            "padding": null,
            "right": null,
            "top": null,
            "visibility": null,
            "width": null
          }
        },
        "8902452a1bc746ed8c0e14a7ab638598": {
          "model_module": "@jupyter-widgets/controls",
          "model_name": "DescriptionStyleModel",
          "model_module_version": "1.5.0",
          "state": {
            "_model_module": "@jupyter-widgets/controls",
            "_model_module_version": "1.5.0",
            "_model_name": "DescriptionStyleModel",
            "_view_count": null,
            "_view_module": "@jupyter-widgets/base",
            "_view_module_version": "1.2.0",
            "_view_name": "StyleView",
            "description_width": ""
          }
        }
      }
    }
  },
  "cells": [
    {
      "cell_type": "markdown",
      "source": [
        "**Drug Data Integration and Predictive Modeling for Side Effect and Target Protein Classification in Pharmaceutical Informatics**"
      ],
      "metadata": {
        "id": "DGqY3WKH5h1c"
      }
    },
    {
      "cell_type": "markdown",
      "source": [
        "**Goal**"
      ],
      "metadata": {
        "id": "_GUSD8tLHk7G"
      }
    },
    {
      "cell_type": "markdown",
      "source": [
        "To build a machine learning pipeline that merges and enriches drug-related data (names, ATC classification, side effects, and targets), and uses it to predict adverse effects and biological targets using supervised learning and large language models.\n",
        "\n"
      ],
      "metadata": {
        "id": "jZ6Cl79pHrwd"
      }
    },
    {
      "cell_type": "markdown",
      "source": [
        "** Intended Audience**"
      ],
      "metadata": {
        "id": "iDUOYURdHynS"
      }
    },
    {
      "cell_type": "markdown",
      "source": [
        "1. Pharmaceutical data scientists\n",
        "\n",
        "2. Drug safety researchers\n",
        "\n",
        "3. Bioinformatics engineers\n",
        "\n",
        "4. ML/AI developers in healthcare\n",
        "\n",
        "5. Students in computational biology and health data science\n",
        "\n"
      ],
      "metadata": {
        "id": "zUOO2qMdH6FC"
      }
    },
    {
      "cell_type": "markdown",
      "source": [
        "**Strategy & Pipeline Steps**"
      ],
      "metadata": {
        "id": "M7F4vm4KIIca"
      }
    },
    {
      "cell_type": "markdown",
      "source": [
        "1. Load and Clean Drug Data from TSV files\n",
        "\n",
        "2. Merge Drug Identifiers with ATC classifications\n",
        "\n",
        "3. Simulate/Extract Side Effects\n",
        "\n",
        "4. Encode Features and Train Classifiers for:\n",
        "\n",
        "   - Side effect classification\n",
        "\n",
        "   - Target protein prediction\n",
        "\n",
        "5. Visualize Results (bar charts, confusion matrix, network graphs)\n",
        "\n",
        "6. Enhance with NLP QA using Hugging Face transformers for excipient function extraction\n",
        "\n",
        "7. Export Cleaned Dataset for Reuse"
      ],
      "metadata": {
        "id": "lloRCr5w5hpE"
      }
    },
    {
      "cell_type": "markdown",
      "source": [
        "**Step 1: Load and Merge Drug Data**"
      ],
      "metadata": {
        "id": "QhX9BOth5hWY"
      }
    },
    {
      "source": [
        "import pandas as pd\n",
        "\n",
        "# Load files from /content\n",
        "drug_names = pd.read_csv('/content/drug_names.tsv', sep='\\t')\n",
        "drug_atc = pd.read_csv('/content/drug_atc.tsv', sep='\\t')\n",
        "\n",
        "# Print the column names of each DataFrame to inspect for 'drug_id' or similar\n",
        "print(\"Columns in drug_names:\", drug_names.columns)\n",
        "print(\"Columns in drug_atc:\", drug_atc.columns)\n",
        "\n",
        "# Assuming 'drug_id' is misspelled or a similar column exists,\n",
        "# adjust the 'on' parameter in pd.merge accordingly.\n",
        "# For example, if the column is named 'drugId' in both DataFrames, change the merge statement to:\n",
        "# merged_df = pd.merge(drug_names, drug_atc, on='drugId', how='inner')\n",
        "\n",
        "# If 'drug_id' is completely missing, you'll need to investigate your data source\n",
        "# to find the correct column to merge on."
      ],
      "cell_type": "code",
      "metadata": {
        "colab": {
          "base_uri": "https://localhost:8080/"
        },
        "id": "mx6XkAvK8KD7",
        "outputId": "a855eb4e-c7c3-4929-9358-57d6deca9666"
      },
      "execution_count": 7,
      "outputs": [
        {
          "output_type": "stream",
          "name": "stdout",
          "text": [
            "Columns in drug_names: Index(['CID100000085', 'carnitine'], dtype='object')\n",
            "Columns in drug_atc: Index(['CID100000085', 'A16AA01'], dtype='object')\n"
          ]
        }
      ]
    },
    {
      "cell_type": "markdown",
      "source": [
        "**Rename columns for clarity before merging:**"
      ],
      "metadata": {
        "id": "e8f42AxN87aB"
      }
    },
    {
      "cell_type": "code",
      "source": [
        "import pandas as pd\n",
        "\n",
        "# Load original files\n",
        "drug_names = pd.read_csv(\"/content/drug_names.tsv\", sep=\"\\t\", header=None)\n",
        "drug_atc = pd.read_csv(\"/content/drug_atc.tsv\", sep=\"\\t\", header=None)\n",
        "\n",
        "# Rename columns manually\n",
        "drug_names.columns = ['drug_id', 'drug_name']\n",
        "drug_atc.columns = ['drug_id', 'atc_code']\n",
        "\n",
        "# Merge them correctly\n",
        "merged_df = pd.merge(drug_names, drug_atc, on='drug_id', how='inner')\n",
        "merged_df.head()\n"
      ],
      "metadata": {
        "colab": {
          "base_uri": "https://localhost:8080/",
          "height": 206
        },
        "id": "zNn35zbt88Ph",
        "outputId": "2cdbcbd4-f0da-4d02-8284-acaa956962ff"
      },
      "execution_count": 10,
      "outputs": [
        {
          "output_type": "execute_result",
          "data": {
            "text/plain": [
              "        drug_id           drug_name atc_code\n",
              "0  CID100000085           carnitine  A16AA01\n",
              "1  CID100000119  gamma-aminobutyric  L03AA03\n",
              "2  CID100000119  gamma-aminobutyric  N03AG03\n",
              "3  CID100000137    5-aminolevulinic  L01XD04\n",
              "4  CID100000143          leucovorin  V03AF03"
            ],
            "text/html": [
              "\n",
              "  <div id=\"df-55fed723-589c-45b9-a6aa-ea777f928cee\" class=\"colab-df-container\">\n",
              "    <div>\n",
              "<style scoped>\n",
              "    .dataframe tbody tr th:only-of-type {\n",
              "        vertical-align: middle;\n",
              "    }\n",
              "\n",
              "    .dataframe tbody tr th {\n",
              "        vertical-align: top;\n",
              "    }\n",
              "\n",
              "    .dataframe thead th {\n",
              "        text-align: right;\n",
              "    }\n",
              "</style>\n",
              "<table border=\"1\" class=\"dataframe\">\n",
              "  <thead>\n",
              "    <tr style=\"text-align: right;\">\n",
              "      <th></th>\n",
              "      <th>drug_id</th>\n",
              "      <th>drug_name</th>\n",
              "      <th>atc_code</th>\n",
              "    </tr>\n",
              "  </thead>\n",
              "  <tbody>\n",
              "    <tr>\n",
              "      <th>0</th>\n",
              "      <td>CID100000085</td>\n",
              "      <td>carnitine</td>\n",
              "      <td>A16AA01</td>\n",
              "    </tr>\n",
              "    <tr>\n",
              "      <th>1</th>\n",
              "      <td>CID100000119</td>\n",
              "      <td>gamma-aminobutyric</td>\n",
              "      <td>L03AA03</td>\n",
              "    </tr>\n",
              "    <tr>\n",
              "      <th>2</th>\n",
              "      <td>CID100000119</td>\n",
              "      <td>gamma-aminobutyric</td>\n",
              "      <td>N03AG03</td>\n",
              "    </tr>\n",
              "    <tr>\n",
              "      <th>3</th>\n",
              "      <td>CID100000137</td>\n",
              "      <td>5-aminolevulinic</td>\n",
              "      <td>L01XD04</td>\n",
              "    </tr>\n",
              "    <tr>\n",
              "      <th>4</th>\n",
              "      <td>CID100000143</td>\n",
              "      <td>leucovorin</td>\n",
              "      <td>V03AF03</td>\n",
              "    </tr>\n",
              "  </tbody>\n",
              "</table>\n",
              "</div>\n",
              "    <div class=\"colab-df-buttons\">\n",
              "\n",
              "  <div class=\"colab-df-container\">\n",
              "    <button class=\"colab-df-convert\" onclick=\"convertToInteractive('df-55fed723-589c-45b9-a6aa-ea777f928cee')\"\n",
              "            title=\"Convert this dataframe to an interactive table.\"\n",
              "            style=\"display:none;\">\n",
              "\n",
              "  <svg xmlns=\"http://www.w3.org/2000/svg\" height=\"24px\" viewBox=\"0 -960 960 960\">\n",
              "    <path d=\"M120-120v-720h720v720H120Zm60-500h600v-160H180v160Zm220 220h160v-160H400v160Zm0 220h160v-160H400v160ZM180-400h160v-160H180v160Zm440 0h160v-160H620v160ZM180-180h160v-160H180v160Zm440 0h160v-160H620v160Z\"/>\n",
              "  </svg>\n",
              "    </button>\n",
              "\n",
              "  <style>\n",
              "    .colab-df-container {\n",
              "      display:flex;\n",
              "      gap: 12px;\n",
              "    }\n",
              "\n",
              "    .colab-df-convert {\n",
              "      background-color: #E8F0FE;\n",
              "      border: none;\n",
              "      border-radius: 50%;\n",
              "      cursor: pointer;\n",
              "      display: none;\n",
              "      fill: #1967D2;\n",
              "      height: 32px;\n",
              "      padding: 0 0 0 0;\n",
              "      width: 32px;\n",
              "    }\n",
              "\n",
              "    .colab-df-convert:hover {\n",
              "      background-color: #E2EBFA;\n",
              "      box-shadow: 0px 1px 2px rgba(60, 64, 67, 0.3), 0px 1px 3px 1px rgba(60, 64, 67, 0.15);\n",
              "      fill: #174EA6;\n",
              "    }\n",
              "\n",
              "    .colab-df-buttons div {\n",
              "      margin-bottom: 4px;\n",
              "    }\n",
              "\n",
              "    [theme=dark] .colab-df-convert {\n",
              "      background-color: #3B4455;\n",
              "      fill: #D2E3FC;\n",
              "    }\n",
              "\n",
              "    [theme=dark] .colab-df-convert:hover {\n",
              "      background-color: #434B5C;\n",
              "      box-shadow: 0px 1px 3px 1px rgba(0, 0, 0, 0.15);\n",
              "      filter: drop-shadow(0px 1px 2px rgba(0, 0, 0, 0.3));\n",
              "      fill: #FFFFFF;\n",
              "    }\n",
              "  </style>\n",
              "\n",
              "    <script>\n",
              "      const buttonEl =\n",
              "        document.querySelector('#df-55fed723-589c-45b9-a6aa-ea777f928cee button.colab-df-convert');\n",
              "      buttonEl.style.display =\n",
              "        google.colab.kernel.accessAllowed ? 'block' : 'none';\n",
              "\n",
              "      async function convertToInteractive(key) {\n",
              "        const element = document.querySelector('#df-55fed723-589c-45b9-a6aa-ea777f928cee');\n",
              "        const dataTable =\n",
              "          await google.colab.kernel.invokeFunction('convertToInteractive',\n",
              "                                                    [key], {});\n",
              "        if (!dataTable) return;\n",
              "\n",
              "        const docLinkHtml = 'Like what you see? Visit the ' +\n",
              "          '<a target=\"_blank\" href=https://colab.research.google.com/notebooks/data_table.ipynb>data table notebook</a>'\n",
              "          + ' to learn more about interactive tables.';\n",
              "        element.innerHTML = '';\n",
              "        dataTable['output_type'] = 'display_data';\n",
              "        await google.colab.output.renderOutput(dataTable, element);\n",
              "        const docLink = document.createElement('div');\n",
              "        docLink.innerHTML = docLinkHtml;\n",
              "        element.appendChild(docLink);\n",
              "      }\n",
              "    </script>\n",
              "  </div>\n",
              "\n",
              "\n",
              "    <div id=\"df-ad8b5c32-12f2-4705-9ef5-28007e92cffc\">\n",
              "      <button class=\"colab-df-quickchart\" onclick=\"quickchart('df-ad8b5c32-12f2-4705-9ef5-28007e92cffc')\"\n",
              "                title=\"Suggest charts\"\n",
              "                style=\"display:none;\">\n",
              "\n",
              "<svg xmlns=\"http://www.w3.org/2000/svg\" height=\"24px\"viewBox=\"0 0 24 24\"\n",
              "     width=\"24px\">\n",
              "    <g>\n",
              "        <path d=\"M19 3H5c-1.1 0-2 .9-2 2v14c0 1.1.9 2 2 2h14c1.1 0 2-.9 2-2V5c0-1.1-.9-2-2-2zM9 17H7v-7h2v7zm4 0h-2V7h2v10zm4 0h-2v-4h2v4z\"/>\n",
              "    </g>\n",
              "</svg>\n",
              "      </button>\n",
              "\n",
              "<style>\n",
              "  .colab-df-quickchart {\n",
              "      --bg-color: #E8F0FE;\n",
              "      --fill-color: #1967D2;\n",
              "      --hover-bg-color: #E2EBFA;\n",
              "      --hover-fill-color: #174EA6;\n",
              "      --disabled-fill-color: #AAA;\n",
              "      --disabled-bg-color: #DDD;\n",
              "  }\n",
              "\n",
              "  [theme=dark] .colab-df-quickchart {\n",
              "      --bg-color: #3B4455;\n",
              "      --fill-color: #D2E3FC;\n",
              "      --hover-bg-color: #434B5C;\n",
              "      --hover-fill-color: #FFFFFF;\n",
              "      --disabled-bg-color: #3B4455;\n",
              "      --disabled-fill-color: #666;\n",
              "  }\n",
              "\n",
              "  .colab-df-quickchart {\n",
              "    background-color: var(--bg-color);\n",
              "    border: none;\n",
              "    border-radius: 50%;\n",
              "    cursor: pointer;\n",
              "    display: none;\n",
              "    fill: var(--fill-color);\n",
              "    height: 32px;\n",
              "    padding: 0;\n",
              "    width: 32px;\n",
              "  }\n",
              "\n",
              "  .colab-df-quickchart:hover {\n",
              "    background-color: var(--hover-bg-color);\n",
              "    box-shadow: 0 1px 2px rgba(60, 64, 67, 0.3), 0 1px 3px 1px rgba(60, 64, 67, 0.15);\n",
              "    fill: var(--button-hover-fill-color);\n",
              "  }\n",
              "\n",
              "  .colab-df-quickchart-complete:disabled,\n",
              "  .colab-df-quickchart-complete:disabled:hover {\n",
              "    background-color: var(--disabled-bg-color);\n",
              "    fill: var(--disabled-fill-color);\n",
              "    box-shadow: none;\n",
              "  }\n",
              "\n",
              "  .colab-df-spinner {\n",
              "    border: 2px solid var(--fill-color);\n",
              "    border-color: transparent;\n",
              "    border-bottom-color: var(--fill-color);\n",
              "    animation:\n",
              "      spin 1s steps(1) infinite;\n",
              "  }\n",
              "\n",
              "  @keyframes spin {\n",
              "    0% {\n",
              "      border-color: transparent;\n",
              "      border-bottom-color: var(--fill-color);\n",
              "      border-left-color: var(--fill-color);\n",
              "    }\n",
              "    20% {\n",
              "      border-color: transparent;\n",
              "      border-left-color: var(--fill-color);\n",
              "      border-top-color: var(--fill-color);\n",
              "    }\n",
              "    30% {\n",
              "      border-color: transparent;\n",
              "      border-left-color: var(--fill-color);\n",
              "      border-top-color: var(--fill-color);\n",
              "      border-right-color: var(--fill-color);\n",
              "    }\n",
              "    40% {\n",
              "      border-color: transparent;\n",
              "      border-right-color: var(--fill-color);\n",
              "      border-top-color: var(--fill-color);\n",
              "    }\n",
              "    60% {\n",
              "      border-color: transparent;\n",
              "      border-right-color: var(--fill-color);\n",
              "    }\n",
              "    80% {\n",
              "      border-color: transparent;\n",
              "      border-right-color: var(--fill-color);\n",
              "      border-bottom-color: var(--fill-color);\n",
              "    }\n",
              "    90% {\n",
              "      border-color: transparent;\n",
              "      border-bottom-color: var(--fill-color);\n",
              "    }\n",
              "  }\n",
              "</style>\n",
              "\n",
              "      <script>\n",
              "        async function quickchart(key) {\n",
              "          const quickchartButtonEl =\n",
              "            document.querySelector('#' + key + ' button');\n",
              "          quickchartButtonEl.disabled = true;  // To prevent multiple clicks.\n",
              "          quickchartButtonEl.classList.add('colab-df-spinner');\n",
              "          try {\n",
              "            const charts = await google.colab.kernel.invokeFunction(\n",
              "                'suggestCharts', [key], {});\n",
              "          } catch (error) {\n",
              "            console.error('Error during call to suggestCharts:', error);\n",
              "          }\n",
              "          quickchartButtonEl.classList.remove('colab-df-spinner');\n",
              "          quickchartButtonEl.classList.add('colab-df-quickchart-complete');\n",
              "        }\n",
              "        (() => {\n",
              "          let quickchartButtonEl =\n",
              "            document.querySelector('#df-ad8b5c32-12f2-4705-9ef5-28007e92cffc button');\n",
              "          quickchartButtonEl.style.display =\n",
              "            google.colab.kernel.accessAllowed ? 'block' : 'none';\n",
              "        })();\n",
              "      </script>\n",
              "    </div>\n",
              "\n",
              "    </div>\n",
              "  </div>\n"
            ],
            "application/vnd.google.colaboratory.intrinsic+json": {
              "type": "dataframe",
              "variable_name": "merged_df",
              "summary": "{\n  \"name\": \"merged_df\",\n  \"rows\": 1560,\n  \"fields\": [\n    {\n      \"column\": \"drug_id\",\n      \"properties\": {\n        \"dtype\": \"string\",\n        \"num_unique_values\": 1118,\n        \"samples\": [\n          \"CID100449193\",\n          \"CID100002182\",\n          \"CID100004449\"\n        ],\n        \"semantic_type\": \"\",\n        \"description\": \"\"\n      }\n    },\n    {\n      \"column\": \"drug_name\",\n      \"properties\": {\n        \"dtype\": \"string\",\n        \"num_unique_values\": 1106,\n        \"samples\": [\n          \"furosemide\",\n          \"nandrolone\",\n          \"thymidine\"\n        ],\n        \"semantic_type\": \"\",\n        \"description\": \"\"\n      }\n    },\n    {\n      \"column\": \"atc_code\",\n      \"properties\": {\n        \"dtype\": \"string\",\n        \"num_unique_values\": 1560,\n        \"samples\": [\n          \"M01AC01\",\n          \"D10AD04\",\n          \"A04AD10\"\n        ],\n        \"semantic_type\": \"\",\n        \"description\": \"\"\n      }\n    }\n  ]\n}"
            }
          },
          "metadata": {},
          "execution_count": 10
        }
      ]
    },
    {
      "cell_type": "markdown",
      "source": [
        "**Explanation:**"
      ],
      "metadata": {
        "id": "j2hwwuzQDYA1"
      }
    },
    {
      "cell_type": "markdown",
      "source": [
        "The table shows drug information with three columns: drug_id, drug_name, and atc_code. Each drug_id uniquely identifies a compound, and drug_name lists its common name. The atc_code represents the drug’s therapeutic classification based on WHO standards. Some drugs, like gamma-aminobutyric, appear with multiple ATC codes, indicating use in different therapeutic areas. This dataset is useful for analyzing drug classification and potential repurposing."
      ],
      "metadata": {
        "id": "x6Scsd_oDb56"
      }
    },
    {
      "cell_type": "markdown",
      "source": [
        "**1. Side Effect Classification (Add Simulated Column)**"
      ],
      "metadata": {
        "id": "ELRWZmS89e4G"
      }
    },
    {
      "cell_type": "code",
      "source": [
        "import numpy as np\n",
        "\n",
        "# Simulate side effects for classification\n",
        "np.random.seed(42)\n",
        "side_effects = ['Nausea', 'Headache', 'None']\n",
        "merged_df['side_effect'] = np.random.choice(side_effects, size=len(merged_df))\n",
        "\n",
        "merged_df[['drug_name', 'atc_code', 'side_effect']].head()\n"
      ],
      "metadata": {
        "colab": {
          "base_uri": "https://localhost:8080/",
          "height": 206
        },
        "id": "QDOnHBsm9PqP",
        "outputId": "c5cc1ed2-6e57-42e8-ea3f-d88209596bd7"
      },
      "execution_count": 11,
      "outputs": [
        {
          "output_type": "execute_result",
          "data": {
            "text/plain": [
              "            drug_name atc_code side_effect\n",
              "0           carnitine  A16AA01        None\n",
              "1  gamma-aminobutyric  L03AA03      Nausea\n",
              "2  gamma-aminobutyric  N03AG03        None\n",
              "3    5-aminolevulinic  L01XD04        None\n",
              "4          leucovorin  V03AF03      Nausea"
            ],
            "text/html": [
              "\n",
              "  <div id=\"df-aa795cf5-628c-4515-9829-375ea053a82d\" class=\"colab-df-container\">\n",
              "    <div>\n",
              "<style scoped>\n",
              "    .dataframe tbody tr th:only-of-type {\n",
              "        vertical-align: middle;\n",
              "    }\n",
              "\n",
              "    .dataframe tbody tr th {\n",
              "        vertical-align: top;\n",
              "    }\n",
              "\n",
              "    .dataframe thead th {\n",
              "        text-align: right;\n",
              "    }\n",
              "</style>\n",
              "<table border=\"1\" class=\"dataframe\">\n",
              "  <thead>\n",
              "    <tr style=\"text-align: right;\">\n",
              "      <th></th>\n",
              "      <th>drug_name</th>\n",
              "      <th>atc_code</th>\n",
              "      <th>side_effect</th>\n",
              "    </tr>\n",
              "  </thead>\n",
              "  <tbody>\n",
              "    <tr>\n",
              "      <th>0</th>\n",
              "      <td>carnitine</td>\n",
              "      <td>A16AA01</td>\n",
              "      <td>None</td>\n",
              "    </tr>\n",
              "    <tr>\n",
              "      <th>1</th>\n",
              "      <td>gamma-aminobutyric</td>\n",
              "      <td>L03AA03</td>\n",
              "      <td>Nausea</td>\n",
              "    </tr>\n",
              "    <tr>\n",
              "      <th>2</th>\n",
              "      <td>gamma-aminobutyric</td>\n",
              "      <td>N03AG03</td>\n",
              "      <td>None</td>\n",
              "    </tr>\n",
              "    <tr>\n",
              "      <th>3</th>\n",
              "      <td>5-aminolevulinic</td>\n",
              "      <td>L01XD04</td>\n",
              "      <td>None</td>\n",
              "    </tr>\n",
              "    <tr>\n",
              "      <th>4</th>\n",
              "      <td>leucovorin</td>\n",
              "      <td>V03AF03</td>\n",
              "      <td>Nausea</td>\n",
              "    </tr>\n",
              "  </tbody>\n",
              "</table>\n",
              "</div>\n",
              "    <div class=\"colab-df-buttons\">\n",
              "\n",
              "  <div class=\"colab-df-container\">\n",
              "    <button class=\"colab-df-convert\" onclick=\"convertToInteractive('df-aa795cf5-628c-4515-9829-375ea053a82d')\"\n",
              "            title=\"Convert this dataframe to an interactive table.\"\n",
              "            style=\"display:none;\">\n",
              "\n",
              "  <svg xmlns=\"http://www.w3.org/2000/svg\" height=\"24px\" viewBox=\"0 -960 960 960\">\n",
              "    <path d=\"M120-120v-720h720v720H120Zm60-500h600v-160H180v160Zm220 220h160v-160H400v160Zm0 220h160v-160H400v160ZM180-400h160v-160H180v160Zm440 0h160v-160H620v160ZM180-180h160v-160H180v160Zm440 0h160v-160H620v160Z\"/>\n",
              "  </svg>\n",
              "    </button>\n",
              "\n",
              "  <style>\n",
              "    .colab-df-container {\n",
              "      display:flex;\n",
              "      gap: 12px;\n",
              "    }\n",
              "\n",
              "    .colab-df-convert {\n",
              "      background-color: #E8F0FE;\n",
              "      border: none;\n",
              "      border-radius: 50%;\n",
              "      cursor: pointer;\n",
              "      display: none;\n",
              "      fill: #1967D2;\n",
              "      height: 32px;\n",
              "      padding: 0 0 0 0;\n",
              "      width: 32px;\n",
              "    }\n",
              "\n",
              "    .colab-df-convert:hover {\n",
              "      background-color: #E2EBFA;\n",
              "      box-shadow: 0px 1px 2px rgba(60, 64, 67, 0.3), 0px 1px 3px 1px rgba(60, 64, 67, 0.15);\n",
              "      fill: #174EA6;\n",
              "    }\n",
              "\n",
              "    .colab-df-buttons div {\n",
              "      margin-bottom: 4px;\n",
              "    }\n",
              "\n",
              "    [theme=dark] .colab-df-convert {\n",
              "      background-color: #3B4455;\n",
              "      fill: #D2E3FC;\n",
              "    }\n",
              "\n",
              "    [theme=dark] .colab-df-convert:hover {\n",
              "      background-color: #434B5C;\n",
              "      box-shadow: 0px 1px 3px 1px rgba(0, 0, 0, 0.15);\n",
              "      filter: drop-shadow(0px 1px 2px rgba(0, 0, 0, 0.3));\n",
              "      fill: #FFFFFF;\n",
              "    }\n",
              "  </style>\n",
              "\n",
              "    <script>\n",
              "      const buttonEl =\n",
              "        document.querySelector('#df-aa795cf5-628c-4515-9829-375ea053a82d button.colab-df-convert');\n",
              "      buttonEl.style.display =\n",
              "        google.colab.kernel.accessAllowed ? 'block' : 'none';\n",
              "\n",
              "      async function convertToInteractive(key) {\n",
              "        const element = document.querySelector('#df-aa795cf5-628c-4515-9829-375ea053a82d');\n",
              "        const dataTable =\n",
              "          await google.colab.kernel.invokeFunction('convertToInteractive',\n",
              "                                                    [key], {});\n",
              "        if (!dataTable) return;\n",
              "\n",
              "        const docLinkHtml = 'Like what you see? Visit the ' +\n",
              "          '<a target=\"_blank\" href=https://colab.research.google.com/notebooks/data_table.ipynb>data table notebook</a>'\n",
              "          + ' to learn more about interactive tables.';\n",
              "        element.innerHTML = '';\n",
              "        dataTable['output_type'] = 'display_data';\n",
              "        await google.colab.output.renderOutput(dataTable, element);\n",
              "        const docLink = document.createElement('div');\n",
              "        docLink.innerHTML = docLinkHtml;\n",
              "        element.appendChild(docLink);\n",
              "      }\n",
              "    </script>\n",
              "  </div>\n",
              "\n",
              "\n",
              "    <div id=\"df-4f37eb28-fc07-46c5-9b87-4b1b76d7caf7\">\n",
              "      <button class=\"colab-df-quickchart\" onclick=\"quickchart('df-4f37eb28-fc07-46c5-9b87-4b1b76d7caf7')\"\n",
              "                title=\"Suggest charts\"\n",
              "                style=\"display:none;\">\n",
              "\n",
              "<svg xmlns=\"http://www.w3.org/2000/svg\" height=\"24px\"viewBox=\"0 0 24 24\"\n",
              "     width=\"24px\">\n",
              "    <g>\n",
              "        <path d=\"M19 3H5c-1.1 0-2 .9-2 2v14c0 1.1.9 2 2 2h14c1.1 0 2-.9 2-2V5c0-1.1-.9-2-2-2zM9 17H7v-7h2v7zm4 0h-2V7h2v10zm4 0h-2v-4h2v4z\"/>\n",
              "    </g>\n",
              "</svg>\n",
              "      </button>\n",
              "\n",
              "<style>\n",
              "  .colab-df-quickchart {\n",
              "      --bg-color: #E8F0FE;\n",
              "      --fill-color: #1967D2;\n",
              "      --hover-bg-color: #E2EBFA;\n",
              "      --hover-fill-color: #174EA6;\n",
              "      --disabled-fill-color: #AAA;\n",
              "      --disabled-bg-color: #DDD;\n",
              "  }\n",
              "\n",
              "  [theme=dark] .colab-df-quickchart {\n",
              "      --bg-color: #3B4455;\n",
              "      --fill-color: #D2E3FC;\n",
              "      --hover-bg-color: #434B5C;\n",
              "      --hover-fill-color: #FFFFFF;\n",
              "      --disabled-bg-color: #3B4455;\n",
              "      --disabled-fill-color: #666;\n",
              "  }\n",
              "\n",
              "  .colab-df-quickchart {\n",
              "    background-color: var(--bg-color);\n",
              "    border: none;\n",
              "    border-radius: 50%;\n",
              "    cursor: pointer;\n",
              "    display: none;\n",
              "    fill: var(--fill-color);\n",
              "    height: 32px;\n",
              "    padding: 0;\n",
              "    width: 32px;\n",
              "  }\n",
              "\n",
              "  .colab-df-quickchart:hover {\n",
              "    background-color: var(--hover-bg-color);\n",
              "    box-shadow: 0 1px 2px rgba(60, 64, 67, 0.3), 0 1px 3px 1px rgba(60, 64, 67, 0.15);\n",
              "    fill: var(--button-hover-fill-color);\n",
              "  }\n",
              "\n",
              "  .colab-df-quickchart-complete:disabled,\n",
              "  .colab-df-quickchart-complete:disabled:hover {\n",
              "    background-color: var(--disabled-bg-color);\n",
              "    fill: var(--disabled-fill-color);\n",
              "    box-shadow: none;\n",
              "  }\n",
              "\n",
              "  .colab-df-spinner {\n",
              "    border: 2px solid var(--fill-color);\n",
              "    border-color: transparent;\n",
              "    border-bottom-color: var(--fill-color);\n",
              "    animation:\n",
              "      spin 1s steps(1) infinite;\n",
              "  }\n",
              "\n",
              "  @keyframes spin {\n",
              "    0% {\n",
              "      border-color: transparent;\n",
              "      border-bottom-color: var(--fill-color);\n",
              "      border-left-color: var(--fill-color);\n",
              "    }\n",
              "    20% {\n",
              "      border-color: transparent;\n",
              "      border-left-color: var(--fill-color);\n",
              "      border-top-color: var(--fill-color);\n",
              "    }\n",
              "    30% {\n",
              "      border-color: transparent;\n",
              "      border-left-color: var(--fill-color);\n",
              "      border-top-color: var(--fill-color);\n",
              "      border-right-color: var(--fill-color);\n",
              "    }\n",
              "    40% {\n",
              "      border-color: transparent;\n",
              "      border-right-color: var(--fill-color);\n",
              "      border-top-color: var(--fill-color);\n",
              "    }\n",
              "    60% {\n",
              "      border-color: transparent;\n",
              "      border-right-color: var(--fill-color);\n",
              "    }\n",
              "    80% {\n",
              "      border-color: transparent;\n",
              "      border-right-color: var(--fill-color);\n",
              "      border-bottom-color: var(--fill-color);\n",
              "    }\n",
              "    90% {\n",
              "      border-color: transparent;\n",
              "      border-bottom-color: var(--fill-color);\n",
              "    }\n",
              "  }\n",
              "</style>\n",
              "\n",
              "      <script>\n",
              "        async function quickchart(key) {\n",
              "          const quickchartButtonEl =\n",
              "            document.querySelector('#' + key + ' button');\n",
              "          quickchartButtonEl.disabled = true;  // To prevent multiple clicks.\n",
              "          quickchartButtonEl.classList.add('colab-df-spinner');\n",
              "          try {\n",
              "            const charts = await google.colab.kernel.invokeFunction(\n",
              "                'suggestCharts', [key], {});\n",
              "          } catch (error) {\n",
              "            console.error('Error during call to suggestCharts:', error);\n",
              "          }\n",
              "          quickchartButtonEl.classList.remove('colab-df-spinner');\n",
              "          quickchartButtonEl.classList.add('colab-df-quickchart-complete');\n",
              "        }\n",
              "        (() => {\n",
              "          let quickchartButtonEl =\n",
              "            document.querySelector('#df-4f37eb28-fc07-46c5-9b87-4b1b76d7caf7 button');\n",
              "          quickchartButtonEl.style.display =\n",
              "            google.colab.kernel.accessAllowed ? 'block' : 'none';\n",
              "        })();\n",
              "      </script>\n",
              "    </div>\n",
              "\n",
              "    </div>\n",
              "  </div>\n"
            ],
            "application/vnd.google.colaboratory.intrinsic+json": {
              "type": "dataframe",
              "summary": "{\n  \"name\": \"merged_df[['drug_name', 'atc_code', 'side_effect']]\",\n  \"rows\": 5,\n  \"fields\": [\n    {\n      \"column\": \"drug_name\",\n      \"properties\": {\n        \"dtype\": \"string\",\n        \"num_unique_values\": 4,\n        \"samples\": [\n          \"gamma-aminobutyric\",\n          \"leucovorin\",\n          \"carnitine\"\n        ],\n        \"semantic_type\": \"\",\n        \"description\": \"\"\n      }\n    },\n    {\n      \"column\": \"atc_code\",\n      \"properties\": {\n        \"dtype\": \"string\",\n        \"num_unique_values\": 5,\n        \"samples\": [\n          \"L03AA03\",\n          \"V03AF03\",\n          \"N03AG03\"\n        ],\n        \"semantic_type\": \"\",\n        \"description\": \"\"\n      }\n    },\n    {\n      \"column\": \"side_effect\",\n      \"properties\": {\n        \"dtype\": \"category\",\n        \"num_unique_values\": 2,\n        \"samples\": [\n          \"Nausea\",\n          \"None\"\n        ],\n        \"semantic_type\": \"\",\n        \"description\": \"\"\n      }\n    }\n  ]\n}"
            }
          },
          "metadata": {},
          "execution_count": 11
        }
      ]
    },
    {
      "cell_type": "markdown",
      "source": [
        "**Explanation**"
      ],
      "metadata": {
        "id": "ee7od2fgDwBE"
      }
    },
    {
      "cell_type": "markdown",
      "source": [
        "The table displays drug-related data with three columns: drug_name, atc_code, and side_effect. Each row represents a specific drug and its corresponding therapeutic classification (atc_code) and reported side effect. For example, gamma-aminobutyric is associated with two ATC codes and has “Nausea” listed as a side effect under one. Most entries show “None” for side effects, indicating no adverse reaction was recorded. This dataset is useful for analyzing drug classifications and their potential side effects."
      ],
      "metadata": {
        "id": "kaXSBWP-Dy0i"
      }
    },
    {
      "cell_type": "markdown",
      "source": [
        "**Train a Classifier to Predict Side Effects**"
      ],
      "metadata": {
        "id": "72pLzsqg9oWR"
      }
    },
    {
      "cell_type": "code",
      "source": [
        "from sklearn.model_selection import train_test_split\n",
        "from sklearn.ensemble import RandomForestClassifier\n",
        "from sklearn.preprocessing import LabelEncoder\n",
        "\n",
        "# Encode features\n",
        "X = pd.get_dummies(merged_df[['atc_code']], drop_first=True)\n",
        "y = LabelEncoder().fit_transform(merged_df['side_effect'])\n",
        "\n",
        "# Train-test split\n",
        "X_train, X_test, y_train, y_test = train_test_split(X, y, test_size=0.2)\n",
        "\n",
        "# Train model\n",
        "clf = RandomForestClassifier()\n",
        "clf.fit(X_train, y_train)\n",
        "print(\"Side Effect Classification Accuracy:\", clf.score(X_test, y_test))\n"
      ],
      "metadata": {
        "colab": {
          "base_uri": "https://localhost:8080/"
        },
        "id": "tJtOvO7C9tfB",
        "outputId": "5c7967d5-e731-4fe7-e63a-7385fc70c9f3"
      },
      "execution_count": 12,
      "outputs": [
        {
          "output_type": "stream",
          "name": "stdout",
          "text": [
            "Side Effect Classification Accuracy: 0.3301282051282051\n"
          ]
        }
      ]
    },
    {
      "cell_type": "markdown",
      "source": [
        "**Explanation:**"
      ],
      "metadata": {
        "id": "-ZQt6VDrEGCQ"
      }
    },
    {
      "cell_type": "markdown",
      "source": [
        "A side effect classification accuracy of 33% means the model correctly predicts side effects only about one-third of the time, suggesting limited performance. This may be due to a small or imbalanced dataset, limited input features, or a basic model. Improving accuracy would require adding more data, enhancing feature quality (e.g., molecular properties), and using more advanced models or balancing techniques."
      ],
      "metadata": {
        "id": "6l63miIdEIz5"
      }
    },
    {
      "cell_type": "markdown",
      "source": [
        "**2. Target Prediction (Simulated or Extended)**"
      ],
      "metadata": {
        "id": "STaYoFFK90G5"
      }
    },
    {
      "cell_type": "code",
      "source": [
        "# Simulate target proteins\n",
        "targets = ['COX1', 'COX2', '5HT3', 'H1', 'Beta-Blocker']\n",
        "merged_df['target_protein'] = np.random.choice(targets, size=len(merged_df))\n",
        "\n",
        "# Predict target from atc_code\n",
        "X = LabelEncoder().fit_transform(merged_df['atc_code']).reshape(-1, 1)\n",
        "y = LabelEncoder().fit_transform(merged_df['target_protein'])\n",
        "\n",
        "clf.fit(X, y)\n",
        "print(\"Target Prediction Accuracy:\", clf.score(X, y))\n"
      ],
      "metadata": {
        "colab": {
          "base_uri": "https://localhost:8080/"
        },
        "id": "5C572uiM97XE",
        "outputId": "23502505-5a24-4812-c32e-ef560217cadc"
      },
      "execution_count": 13,
      "outputs": [
        {
          "output_type": "stream",
          "name": "stdout",
          "text": [
            "Target Prediction Accuracy: 1.0\n"
          ]
        }
      ]
    },
    {
      "cell_type": "markdown",
      "source": [
        "**Explanation:**"
      ],
      "metadata": {
        "id": "g9IlzdjaESfh"
      }
    },
    {
      "cell_type": "markdown",
      "source": [
        "A target prediction accuracy of 1.0 indicates perfect performance—every predicted target matches the actual value. This could suggest the model is highly effective, but it may also point to a very small or simple dataset, potential data leakage, or overfitting. It's important to validate the result using cross-validation or a separate test set to confirm the model's reliability."
      ],
      "metadata": {
        "id": "BhlZdY6aEVdl"
      }
    },
    {
      "cell_type": "markdown",
      "source": [
        "**3. Drug–Excipient NLP Extraction (LLM-based QA)**"
      ],
      "metadata": {
        "id": "qgWGgIRd-CEY"
      }
    },
    {
      "cell_type": "code",
      "source": [
        "from transformers import pipeline\n",
        "\n",
        "# Load a QA model\n",
        "qa = pipeline(\"question-answering\", model=\"distilbert-base-cased-distilled-squad\")\n",
        "\n",
        "# Example pharmaceutical context\n",
        "context = \"\"\"\n",
        "PVP enhances solubility of poorly soluble drugs. HPMC is used for sustained release.\n",
        "Magnesium stearate is added as a lubricant.\n",
        "\"\"\"\n",
        "\n",
        "questions = [\n",
        "    \"Which excipient is used for sustained release?\",\n",
        "    \"Which one improves solubility?\",\n",
        "    \"Which one is a lubricant?\"\n",
        "]\n",
        "\n",
        "for q in questions:\n",
        "    print(f\"Q: {q}\")\n",
        "    print(\"A:\", qa(question=q, context=context)[\"answer\"])\n"
      ],
      "metadata": {
        "colab": {
          "base_uri": "https://localhost:8080/",
          "height": 414,
          "referenced_widgets": [
            "b91490b2dc524bb3b44bde4f26c96c9c",
            "edfb7cd83bb8429a93ce9e6391955cae",
            "06968ea38d57422aa2e5f294a56e8bde",
            "ea04eda5d0d94eafb2c172406c3428b8",
            "59184a4f90074900a47c7f885ffc4ed3",
            "beb156cce2be42448a14dd85502c385d",
            "0be70a1e80e2466ead850a699d992bae",
            "e0c3db1f7fd54b2681e9e04ad5bc699b",
            "f700cbfa9e394cc6b03192848bbd9ab9",
            "dd773f734fd24ac8bc91a2dfe00e6923",
            "fd3b9d77bb1c4775bd7b169dafad2106",
            "3862ed450b484d00b761b94bf27da4a9",
            "d83c5f231fee4a14b0c3f552301fa8c0",
            "0effb5a0b2614295af9bff8aea5ebae3",
            "cc03a9038700490793b73bff8155b664",
            "cacb973f4e25469185f8966b1c69cf27",
            "bff4b213aa4c4f42a35ab0bc3e21eaa7",
            "5ae154dd8e524b4dbda9c4c06eaccfc9",
            "fedb5da842ec48588a62b36674f42756",
            "5feed65818504b588a76010c035659ba",
            "274923e07f3a49b4998fbd9fd412db46",
            "b26ef54135594564ac02ac0b8fc07280",
            "757c719c1d4a43f3bd0ee96ed4621641",
            "608f4cea98574dd6ab9c237304ddadec",
            "19302425584f40a486ae282624c2bba3",
            "151c796f951d44df974ba50eb75020f5",
            "8405d3ee8b9442a7a8c2b51c30e17a65",
            "a900bcb39ec34dfb87fc4b5efb686a5c",
            "f4214ffdcf6149c4aac82695a6918017",
            "4f8e9faf28dd49b2a7671efe64fd7841",
            "cce7ee7d0f54453983ac56e995945943",
            "5e5cc9737af0457d994e3625915cd881",
            "0ff65a3428594937b4705a67982a2547",
            "00451c69c0d745bf98376982d913e770",
            "45308e312f51437e8f26edbd8eca745f",
            "d789f71d37b9453ab5eab0ec679b5a87",
            "7b58358135234e818871769457dee4c3",
            "1d523ca2bdb14838a6c46f7455714116",
            "318d9a49012c489cbc93904cb055688e",
            "1621a781662f4598a1786d5622d71c55",
            "126beb2217d5482eb54eac941425bd92",
            "637454ac21284b63aca4f764ee51ee1a",
            "128a3b49341d49fb82beea988d1b149c",
            "231134296ea8450984c69047d478bba8",
            "280e1b964f5c460287a911e44988545d",
            "d472f32161e6409080c9a2a1635687da",
            "4c13aa215aa64220afdc996321e079c3",
            "dcd4da91deca4896978fb66da15c6a53",
            "30790690c11f4f92b30f2e476caceec1",
            "3efa8b102e6a41429dc7e70eb3c943e5",
            "79077d94e5f2453c9d85ed777b4f5b2a",
            "5057f5ccfcde4c04af9a1c28a1d57221",
            "8057b818a1f140e9b444cad32b92673b",
            "8949584e79394848b47ace08c28167df",
            "8902452a1bc746ed8c0e14a7ab638598"
          ]
        },
        "id": "KMVMi8sL-NOY",
        "outputId": "6c22c21c-15b4-4643-c4e5-8d4b53ef4c86"
      },
      "execution_count": 14,
      "outputs": [
        {
          "output_type": "stream",
          "name": "stderr",
          "text": [
            "/usr/local/lib/python3.11/dist-packages/huggingface_hub/utils/_auth.py:94: UserWarning: \n",
            "The secret `HF_TOKEN` does not exist in your Colab secrets.\n",
            "To authenticate with the Hugging Face Hub, create a token in your settings tab (https://huggingface.co/settings/tokens), set it as secret in your Google Colab and restart your session.\n",
            "You will be able to reuse this secret in all of your notebooks.\n",
            "Please note that authentication is recommended but still optional to access public models or datasets.\n",
            "  warnings.warn(\n"
          ]
        },
        {
          "output_type": "display_data",
          "data": {
            "text/plain": [
              "config.json:   0%|          | 0.00/473 [00:00<?, ?B/s]"
            ],
            "application/vnd.jupyter.widget-view+json": {
              "version_major": 2,
              "version_minor": 0,
              "model_id": "b91490b2dc524bb3b44bde4f26c96c9c"
            }
          },
          "metadata": {}
        },
        {
          "output_type": "display_data",
          "data": {
            "text/plain": [
              "model.safetensors:   0%|          | 0.00/261M [00:00<?, ?B/s]"
            ],
            "application/vnd.jupyter.widget-view+json": {
              "version_major": 2,
              "version_minor": 0,
              "model_id": "3862ed450b484d00b761b94bf27da4a9"
            }
          },
          "metadata": {}
        },
        {
          "output_type": "display_data",
          "data": {
            "text/plain": [
              "tokenizer_config.json:   0%|          | 0.00/49.0 [00:00<?, ?B/s]"
            ],
            "application/vnd.jupyter.widget-view+json": {
              "version_major": 2,
              "version_minor": 0,
              "model_id": "757c719c1d4a43f3bd0ee96ed4621641"
            }
          },
          "metadata": {}
        },
        {
          "output_type": "display_data",
          "data": {
            "text/plain": [
              "vocab.txt:   0%|          | 0.00/213k [00:00<?, ?B/s]"
            ],
            "application/vnd.jupyter.widget-view+json": {
              "version_major": 2,
              "version_minor": 0,
              "model_id": "00451c69c0d745bf98376982d913e770"
            }
          },
          "metadata": {}
        },
        {
          "output_type": "display_data",
          "data": {
            "text/plain": [
              "tokenizer.json:   0%|          | 0.00/436k [00:00<?, ?B/s]"
            ],
            "application/vnd.jupyter.widget-view+json": {
              "version_major": 2,
              "version_minor": 0,
              "model_id": "280e1b964f5c460287a911e44988545d"
            }
          },
          "metadata": {}
        },
        {
          "output_type": "stream",
          "name": "stderr",
          "text": [
            "Device set to use cpu\n"
          ]
        },
        {
          "output_type": "stream",
          "name": "stdout",
          "text": [
            "Q: Which excipient is used for sustained release?\n",
            "A: HPMC\n",
            "Q: Which one improves solubility?\n",
            "A: PVP\n",
            "Q: Which one is a lubricant?\n",
            "A: Magnesium stearate\n"
          ]
        }
      ]
    },
    {
      "cell_type": "markdown",
      "source": [
        "**Explanation:**"
      ],
      "metadata": {
        "id": "x-lGm97zExXH"
      }
    },
    {
      "cell_type": "markdown",
      "source": [
        "Interpretation\n",
        "The model is correctly identifying common excipients based on their function:\n",
        "\n",
        "- HPMC (Hydroxypropyl Methylcellulose): used for sustained release.\n",
        "\n",
        "- PVP (Polyvinylpyrrolidone): enhances solubility.\n",
        "\n",
        "- Magnesium stearate: acts as a lubricant."
      ],
      "metadata": {
        "id": "mOvq9X9YE22O"
      }
    },
    {
      "cell_type": "markdown",
      "source": [
        "**Save or Export Your Results**"
      ],
      "metadata": {
        "id": "5-shKiDh-fpW"
      }
    },
    {
      "cell_type": "code",
      "source": [
        "merged_df.to_csv(\"/content/merged_drug_data.csv\", index=False)\n"
      ],
      "metadata": {
        "id": "2HMmRfFE-h0f"
      },
      "execution_count": 15,
      "outputs": []
    },
    {
      "cell_type": "markdown",
      "source": [
        "**Dataset Overview**"
      ],
      "metadata": {
        "id": "-Y8uamzaJVp-"
      }
    },
    {
      "cell_type": "markdown",
      "source": [
        "- drug_names.tsv: Contains drug identifiers and names\n",
        "\n",
        "- drug_atc.tsv: Contains ATC codes for therapeutic classification\n",
        "\n",
        "- Merged Columns: drug_id, drug_name, atc_code\n",
        "\n",
        "- Simulated Columns: side_effect, target_protein\n",
        "\n"
      ],
      "metadata": {
        "id": "JqQEwy0xJXmq"
      }
    },
    {
      "cell_type": "markdown",
      "source": [
        "**1.  Side Effect Distribution by ATC Class**"
      ],
      "metadata": {
        "id": "rHB6NkmW_cRc"
      }
    },
    {
      "cell_type": "markdown",
      "source": [
        "**Shows which side effects are most common in each ATC drug class**"
      ],
      "metadata": {
        "id": "X7FsY8vM_jbJ"
      }
    },
    {
      "cell_type": "code",
      "source": [
        "import seaborn as sns\n",
        "import matplotlib.pyplot as plt\n",
        "\n",
        "# Ensure 'side_effect' and 'atc_code' exist in merged_df\n",
        "plt.figure(figsize=(12, 6))\n",
        "sns.countplot(data=merged_df, x='atc_code', hue='side_effect', palette='Set2')\n",
        "plt.title(\"🔬 Side Effect Distribution by ATC Class\")\n",
        "plt.xlabel(\"ATC Code\")\n",
        "plt.ylabel(\"Drug Count\")\n",
        "plt.xticks(rotation=45)\n",
        "plt.legend(title='Side Effect')\n",
        "plt.tight_layout()\n",
        "plt.show()\n"
      ],
      "metadata": {
        "colab": {
          "base_uri": "https://localhost:8080/",
          "height": 680
        },
        "id": "7PI411tu_fTq",
        "outputId": "86e1e959-70c3-476c-ccee-b8dcc47349d8"
      },
      "execution_count": 16,
      "outputs": [
        {
          "output_type": "stream",
          "name": "stderr",
          "text": [
            "<ipython-input-16-c51286ecac01>:12: UserWarning: Glyph 128300 (\\N{MICROSCOPE}) missing from font(s) DejaVu Sans.\n",
            "  plt.tight_layout()\n",
            "/usr/local/lib/python3.11/dist-packages/IPython/core/pylabtools.py:151: UserWarning: Glyph 128300 (\\N{MICROSCOPE}) missing from font(s) DejaVu Sans.\n",
            "  fig.canvas.print_figure(bytes_io, **kw)\n"
          ]
        },
        {
          "output_type": "display_data",
          "data": {
            "text/plain": [
              "<Figure size 1200x600 with 1 Axes>"
            ],
            "image/png": "[encoded data removed]"
          },
          "metadata": {}
        }
      ]
    },
    {
      "cell_type": "markdown",
      "source": [
        "The chart shows the distribution of drug side effects (None, Nausea, Headache) across various ATC classes. Each bar represents a drug, color-coded by side effect. Due to the high number of ATC codes, the plot appears cluttered and hard to read. Removing emojis and focusing on top ATC classes would improve clarity."
      ],
      "metadata": {
        "id": "St9HMnMVFtw1"
      }
    },
    {
      "cell_type": "markdown",
      "source": [
        "**2. Confusion Matrix: Predicted vs. Actual Target Protein**"
      ],
      "metadata": {
        "id": "ZibzDzut_0nE"
      }
    },
    {
      "cell_type": "markdown",
      "source": [
        "Evaluate your ML model for target prediction"
      ],
      "metadata": {
        "id": "uSsIouhw_7W9"
      }
    },
    {
      "source": [
        "import pandas as pd\n",
        "from sklearn.feature_extraction.text import TfidfVectorizer\n",
        "from sklearn.ensemble import RandomForestClassifier\n",
        "from sklearn.model_selection import train_test_split\n",
        "from sklearn.metrics import confusion_matrix, ConfusionMatrixDisplay, classification_report\n",
        "import matplotlib.pyplot as plt\n",
        "\n",
        "# ✅ Step 1: Load a more meaningful dataset\n",
        "data = {\n",
        "    'text': [\n",
        "        'Aspirin relieves pain.',\n",
        "        'Ibuprofen reduces inflammation.',\n",
        "        'Paracetamol lowers fever.',\n",
        "        'Antibiotics fight infection.',\n",
        "        'Vaccines prevent disease.',\n",
        "        'Cough syrups soothe throat.',\n",
        "        'Insulin controls blood sugar.',\n",
        "        'Statins lower cholesterol.'\n",
        "    ],\n",
        "    'label': [0, 0, 0, 1, 1, 1, 1, 1]  # 0 = analgesic, 1 = other\n",
        "}\n",
        "df = pd.DataFrame(data)\n",
        "\n",
        "# Step 2: Split input & target\n",
        "X = df['text']\n",
        "y = df['label']\n",
        "\n",
        "# Step 3: Vectorize\n",
        "vectorizer = TfidfVectorizer()\n",
        "X_vect = vectorizer.fit_transform(X)\n",
        "\n",
        "# Step 4: Train-test split with stratification\n",
        "X_train, X_test, y_train, y_test = train_test_split(\n",
        "    X_vect, y, test_size=0.25, random_state=42, stratify=y\n",
        ")\n",
        "\n",
        "# Step 5: Train classifier\n",
        "clf = RandomForestClassifier(random_state=42)\n",
        "clf.fit(X_train, y_train)\n",
        "\n",
        "# Step 6: Predict\n",
        "y_pred = clf.predict(X_test)\n",
        "\n",
        "# Step 7: Evaluation\n",
        "cm = confusion_matrix(y_test, y_pred)\n",
        "print(\"Confusion Matrix:\\n\", cm)\n",
        "\n",
        "print(\"\\nClassification Report:\")\n",
        "print(classification_report(y_test, y_pred, zero_division=0))\n",
        "\n",
        "disp = ConfusionMatrixDisplay(confusion_matrix=cm)\n",
        "disp.plot()\n",
        "plt.title(\"Confusion Matrix: Predicted vs Actual\")\n",
        "plt.show()\n"
      ],
      "cell_type": "code",
      "metadata": {
        "colab": {
          "base_uri": "https://localhost:8080/",
          "height": 727
        },
        "id": "_dRKQNzFAg69",
        "outputId": "96118944-bffc-4afc-8c80-98324cdf8afe"
      },
      "execution_count": 22,
      "outputs": [
        {
          "output_type": "stream",
          "name": "stdout",
          "text": [
            "Confusion Matrix:\n",
            " [[0 1]\n",
            " [0 1]]\n",
            "\n",
            "Classification Report:\n",
            "              precision    recall  f1-score   support\n",
            "\n",
            "           0       0.00      0.00      0.00         1\n",
            "           1       0.50      1.00      0.67         1\n",
            "\n",
            "    accuracy                           0.50         2\n",
            "   macro avg       0.25      0.50      0.33         2\n",
            "weighted avg       0.25      0.50      0.33         2\n",
            "\n"
          ]
        },
        {
          "output_type": "display_data",
          "data": {
            "text/plain": [
              "<Figure size 640x480 with 2 Axes>"
            ],
            "image/png": "[encoded data removed]"
          },
          "metadata": {}
        }
      ]
    },
    {
      "cell_type": "markdown",
      "source": [
        "**Explanation**"
      ],
      "metadata": {
        "id": "RWj_E-2eF50q"
      }
    },
    {
      "cell_type": "markdown",
      "source": [
        "The confusion matrix and classification report indicate that the model was tested on only 2 samples. It correctly predicted class 1 once but misclassified the class 0 sample as class 1. This results in an overall accuracy of 50%, with poor precision and recall for class 0. The low support (only 1 sample per class) makes these metrics unreliable. A larger and more balanced test set is needed for meaningful evaluation."
      ],
      "metadata": {
        "id": "_qRRSlHeF9gk"
      }
    },
    {
      "cell_type": "markdown",
      "source": [
        "**3. Network Diagram: Drug → Target → Side Effect**"
      ],
      "metadata": {
        "id": "vcPwVudCBzJx"
      }
    },
    {
      "cell_type": "markdown",
      "source": [
        "Visualizes relationships using NetworkX."
      ],
      "metadata": {
        "id": "duHRFZQDCH0C"
      }
    },
    {
      "cell_type": "code",
      "source": [
        "import networkx as nx\n",
        "\n",
        "G = nx.DiGraph()\n",
        "\n",
        "# Build graph from 10 rows for simplicity\n",
        "subset = merged_df[['drug_name', 'target_protein', 'side_effect']].dropna().head(10)\n",
        "\n",
        "for _, row in subset.iterrows():\n",
        "    G.add_edge(row['drug_name'], row['target_protein'], label='targets')\n",
        "    G.add_edge(row['target_protein'], row['side_effect'], label='causes')\n",
        "\n",
        "# Plot graph\n",
        "plt.figure(figsize=(12, 8))\n",
        "pos = nx.spring_layout(G, k=0.5)\n",
        "nx.draw(G, pos, with_labels=True, node_size=2000, node_color='lightblue', font_size=10, edge_color='gray')\n",
        "edge_labels = nx.get_edge_attributes(G, 'label')\n",
        "nx.draw_networkx_edge_labels(G, pos, edge_labels=edge_labels, font_color='red')\n",
        "plt.title(\"🔗 Drug → Target → Side Effect Network\")\n",
        "plt.show()\n"
      ],
      "metadata": {
        "colab": {
          "base_uri": "https://localhost:8080/",
          "height": 895
        },
        "id": "sJzsUHhSCAyN",
        "outputId": "8715e669-85a3-4d25-ae79-30fb50c15884"
      },
      "execution_count": 23,
      "outputs": [
        {
          "output_type": "stream",
          "name": "stderr",
          "text": [
            "/usr/local/lib/python3.11/dist-packages/IPython/core/pylabtools.py:151: UserWarning: Glyph 128279 (\\N{LINK SYMBOL}) missing from font(s) DejaVu Sans.\n",
            "  fig.canvas.print_figure(bytes_io, **kw)\n"
          ]
        },
        {
          "output_type": "display_data",
          "data": {
            "text/plain": [
              "<Figure size 1200x800 with 1 Axes>"
            ],
            "image/png": "[encoded data removed]"
          },
          "metadata": {}
        }
      ]
    },
    {
      "cell_type": "markdown",
      "source": [
        "Explanation:"
      ],
      "metadata": {
        "id": "oYWaU_1NGNS5"
      }
    },
    {
      "cell_type": "markdown",
      "source": [
        "The image shows a network graph representing relationships between drugs, their molecular targets, and associated side effects. Drugs like leucovorin, gamma-aminobutyric, and beta-blockers are connected via “targets” to proteins such as COX1, 5HT3, or PGE2, which in turn link to side effects like Nausea or Headache via “causes” edges. The labels clarify the direction of interaction: drugs target proteins, and proteins cause side effects. This graph helps visualize how specific drugs may lead to adverse effects through their biological interactions."
      ],
      "metadata": {
        "id": "h-QcBxWIGPmi"
      }
    },
    {
      "cell_type": "markdown",
      "source": [
        "**4. Bar Chart: Drug Count per Target Protein**"
      ],
      "metadata": {
        "id": "64nbQsduCS5i"
      }
    },
    {
      "cell_type": "markdown",
      "source": [
        "Shows how many drugs are associated with each target."
      ],
      "metadata": {
        "id": "-zlvOAR5CeMP"
      }
    },
    {
      "cell_type": "code",
      "source": [
        "import matplotlib.pyplot as plt\n",
        "import seaborn as sns\n",
        "\n",
        "# Count values\n",
        "target_counts = merged_df['target_protein'].value_counts().sort_values(ascending=False)\n",
        "\n",
        "# Prepare plot\n",
        "plt.figure(figsize=(10, 5))\n",
        "\n",
        "# Fix 1: Add `hue=target_counts.index` and `legend=False` to avoid FutureWarning\n",
        "sns.barplot(x=target_counts.index, y=target_counts.values, hue=target_counts.index, palette='viridis', legend=False)\n",
        "\n",
        "# Fix 2: Replace emoji in title to avoid missing glyph warning\n",
        "plt.title(\"Number of Drugs per Target Protein\")  # Removed 📊 emoji\n",
        "plt.xlabel(\"Target Protein\")\n",
        "plt.ylabel(\"Drug Count\")\n",
        "plt.xticks(rotation=45)\n",
        "\n",
        "plt.tight_layout()\n",
        "plt.show()\n"
      ],
      "metadata": {
        "colab": {
          "base_uri": "https://localhost:8080/",
          "height": 507
        },
        "id": "_WHsPj8-CYrm",
        "outputId": "839571a9-66e9-48e4-afae-efd8fe53c16b"
      },
      "execution_count": 25,
      "outputs": [
        {
          "output_type": "display_data",
          "data": {
            "text/plain": [
              "<Figure size 1000x500 with 1 Axes>"
            ],
            "image/png": "[encoded data removed]"
          },
          "metadata": {}
        }
      ]
    },
    {
      "cell_type": "markdown",
      "source": [
        "**Explanation**"
      ],
      "metadata": {
        "id": "JVs0n1apGa7x"
      }
    },
    {
      "cell_type": "markdown",
      "source": [
        "The bar chart displays the number of drugs associated with each target protein. It shows that 5HT3, Beta-Blocker, and COX1 have the highest number of associated drugs, each with over 320. H1 and COX2 follow, with slightly fewer drugs. This suggests that these proteins are common therapeutic targets, possibly involved in multiple treatment pathways."
      ],
      "metadata": {
        "id": "VSw1pKXEGeKR"
      }
    },
    {
      "cell_type": "markdown",
      "source": [
        "** Challenges**"
      ],
      "metadata": {
        "id": "xYr7jrN8IqDa"
      }
    },
    {
      "cell_type": "markdown",
      "source": [
        "- Inconsistent or missing identifiers across files\n",
        "\n",
        "- Limited data size reduces generalizability\n",
        "\n",
        "- Simulated side effect/target data limits real-world applicability\n",
        "\n",
        "- Risk of overfitting with small datasets\n",
        "\n",
        "- Visualization clutter with too many ATC codes"
      ],
      "metadata": {
        "id": "qf-rQp3cIrpT"
      }
    },
    {
      "cell_type": "markdown",
      "source": [
        "**Problem Statement**"
      ],
      "metadata": {
        "id": "tvUMPgRAI2Fh"
      }
    },
    {
      "cell_type": "markdown",
      "source": [
        "Can we use basic drug metadata to predict possible side effects and biological targets of drug compounds using supervised learning and visualize the interactions in a meaningful way?"
      ],
      "metadata": {
        "id": "PfO6quePJCFe"
      }
    },
    {
      "cell_type": "markdown",
      "source": [
        "** MACHINE LEARNING PREDICTION & OUTCOMES**"
      ],
      "metadata": {
        "id": "vNOstfsSJDKv"
      }
    },
    {
      "cell_type": "markdown",
      "source": [
        "| Task                       | Model                    | Accuracy | Notes                            |\n",
        "| -------------------------- | ------------------------ | -------- | -------------------------------- |\n",
        "| Side Effect Classification | Random Forest Classifier | 33%      | Limited by imbalanced classes    |\n",
        "| Target Protein Prediction  | Random Forest Classifier | 100%     | Possibly overfit; simulated data |\n"
      ],
      "metadata": {
        "id": "jYP-KHSKJsgq"
      }
    },
    {
      "cell_type": "markdown",
      "source": [
        "**Conceptual Enhancement – AGI (Artificial General Intelligence)**"
      ],
      "metadata": {
        "id": "V-9tqwcEJ4Ea"
      }
    },
    {
      "cell_type": "markdown",
      "source": [
        "To move toward AGI-level drug discovery:\n",
        "\n",
        "- Use multimodal learning to incorporate molecular structure, clinical trials, and chemical descriptors.\n",
        "\n",
        "- Deploy transformer-based architectures trained on biomedical corpora (e.g., PubMedBERT, BioGPT) for deeper domain understanding.\n",
        "\n",
        "- Implement knowledge graphs linking drugs, pathways, proteins, and outcomes for reasoning and hypothesis generation.\n",
        "\n",
        "- Explore continual learning for dynamically updating the model with new drug evidence and side effects over time."
      ],
      "metadata": {
        "id": "IgFHgtC8J6OS"
      }
    },
    {
      "cell_type": "markdown",
      "source": [
        "**References**\n",
        "\n",
        "1. Friedman, J.H. (2001). \"Greedy Function Approximation: A Gradient Boosting Machine.\" The Annals of Statistics.\n",
        "\n",
        "2. Breiman, L. (2001). \"Random Forests.\" Machine Learning, 45(1), 5–32.\n",
        "\n",
        "3. World Health Organization (WHO). ATC/DDD Index 2023. https://www.whocc.no/atc_ddd_index/\n",
        "\n",
        "4. Wang, Z., Clark, N.R., & Ma'ayan, A. (2016). \"Drug-induced adverse events prediction with the LINCS L1000 data.\" Bioinformatics, 32(15), 2338–2345.\n",
        "\n",
        "5. Choi, E., et al. (2017). \"Using recurrent neural network models for early detection of heart failure onset.\" Journal of the American Medical Informatics Association, 24(2), 361–370.\n",
        "\n",
        "6. Pedregosa, F., et al. (2011). \"Scikit-learn: Machine Learning in Python.\" Journal of Machine Learning Research, 12, 2825–2830.\n",
        "\n"
      ],
      "metadata": {
        "id": "jR5Mm8EsK4zi"
      }
    }
  ]
}